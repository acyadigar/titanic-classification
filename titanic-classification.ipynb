{
 "cells": [
  {
   "cell_type": "code",
   "execution_count": 1,
   "metadata": {},
   "outputs": [],
   "source": [
    "import pandas as pd\n",
    "import seaborn as sns\n",
    "import numpy as np"
   ]
  },
  {
   "cell_type": "code",
   "execution_count": 2,
   "metadata": {},
   "outputs": [
    {
     "data": {
      "text/html": [
       "<div>\n",
       "<style scoped>\n",
       "    .dataframe tbody tr th:only-of-type {\n",
       "        vertical-align: middle;\n",
       "    }\n",
       "\n",
       "    .dataframe tbody tr th {\n",
       "        vertical-align: top;\n",
       "    }\n",
       "\n",
       "    .dataframe thead th {\n",
       "        text-align: right;\n",
       "    }\n",
       "</style>\n",
       "<table border=\"1\" class=\"dataframe\">\n",
       "  <thead>\n",
       "    <tr style=\"text-align: right;\">\n",
       "      <th></th>\n",
       "      <th>PassengerId</th>\n",
       "      <th>Survived</th>\n",
       "      <th>Pclass</th>\n",
       "      <th>Name</th>\n",
       "      <th>Sex</th>\n",
       "      <th>Age</th>\n",
       "      <th>SibSp</th>\n",
       "      <th>Parch</th>\n",
       "      <th>Ticket</th>\n",
       "      <th>Fare</th>\n",
       "      <th>Cabin</th>\n",
       "      <th>Embarked</th>\n",
       "    </tr>\n",
       "  </thead>\n",
       "  <tbody>\n",
       "    <tr>\n",
       "      <th>0</th>\n",
       "      <td>1</td>\n",
       "      <td>0</td>\n",
       "      <td>3</td>\n",
       "      <td>Braund, Mr. Owen Harris</td>\n",
       "      <td>male</td>\n",
       "      <td>22.0</td>\n",
       "      <td>1</td>\n",
       "      <td>0</td>\n",
       "      <td>A/5 21171</td>\n",
       "      <td>7.2500</td>\n",
       "      <td>NaN</td>\n",
       "      <td>S</td>\n",
       "    </tr>\n",
       "    <tr>\n",
       "      <th>1</th>\n",
       "      <td>2</td>\n",
       "      <td>1</td>\n",
       "      <td>1</td>\n",
       "      <td>Cumings, Mrs. John Bradley (Florence Briggs Th...</td>\n",
       "      <td>female</td>\n",
       "      <td>38.0</td>\n",
       "      <td>1</td>\n",
       "      <td>0</td>\n",
       "      <td>PC 17599</td>\n",
       "      <td>71.2833</td>\n",
       "      <td>C85</td>\n",
       "      <td>C</td>\n",
       "    </tr>\n",
       "    <tr>\n",
       "      <th>2</th>\n",
       "      <td>3</td>\n",
       "      <td>1</td>\n",
       "      <td>3</td>\n",
       "      <td>Heikkinen, Miss. Laina</td>\n",
       "      <td>female</td>\n",
       "      <td>26.0</td>\n",
       "      <td>0</td>\n",
       "      <td>0</td>\n",
       "      <td>STON/O2. 3101282</td>\n",
       "      <td>7.9250</td>\n",
       "      <td>NaN</td>\n",
       "      <td>S</td>\n",
       "    </tr>\n",
       "  </tbody>\n",
       "</table>\n",
       "</div>"
      ],
      "text/plain": [
       "   PassengerId  Survived  Pclass  \\\n",
       "0            1         0       3   \n",
       "1            2         1       1   \n",
       "2            3         1       3   \n",
       "\n",
       "                                                Name     Sex   Age  SibSp  \\\n",
       "0                            Braund, Mr. Owen Harris    male  22.0      1   \n",
       "1  Cumings, Mrs. John Bradley (Florence Briggs Th...  female  38.0      1   \n",
       "2                             Heikkinen, Miss. Laina  female  26.0      0   \n",
       "\n",
       "   Parch            Ticket     Fare Cabin Embarked  \n",
       "0      0         A/5 21171   7.2500   NaN        S  \n",
       "1      0          PC 17599  71.2833   C85        C  \n",
       "2      0  STON/O2. 3101282   7.9250   NaN        S  "
      ]
     },
     "execution_count": 2,
     "metadata": {},
     "output_type": "execute_result"
    }
   ],
   "source": [
    "data = pd.read_csv('./datasets/train.csv')\n",
    "data_test = pd.read_csv('./datasets/test.csv')\n",
    "df = data.copy()\n",
    "df_test = data_test.copy()\n",
    "df.head(3)"
   ]
  },
  {
   "cell_type": "code",
   "execution_count": 3,
   "metadata": {},
   "outputs": [
    {
     "name": "stdout",
     "output_type": "stream",
     "text": [
      "Train dataset shape: (891, 12) \n",
      "Test  dataset shape: (418, 11)\n"
     ]
    }
   ],
   "source": [
    "print(f'Train dataset shape: {df.shape} \\nTest  dataset shape: {data_test.shape}')"
   ]
  },
  {
   "cell_type": "code",
   "execution_count": 4,
   "metadata": {},
   "outputs": [
    {
     "data": {
      "text/html": [
       "<div>\n",
       "<style scoped>\n",
       "    .dataframe tbody tr th:only-of-type {\n",
       "        vertical-align: middle;\n",
       "    }\n",
       "\n",
       "    .dataframe tbody tr th {\n",
       "        vertical-align: top;\n",
       "    }\n",
       "\n",
       "    .dataframe thead th {\n",
       "        text-align: right;\n",
       "    }\n",
       "</style>\n",
       "<table border=\"1\" class=\"dataframe\">\n",
       "  <thead>\n",
       "    <tr style=\"text-align: right;\">\n",
       "      <th></th>\n",
       "      <th>count</th>\n",
       "      <th>mean</th>\n",
       "      <th>std</th>\n",
       "      <th>min</th>\n",
       "      <th>25%</th>\n",
       "      <th>50%</th>\n",
       "      <th>75%</th>\n",
       "      <th>max</th>\n",
       "    </tr>\n",
       "  </thead>\n",
       "  <tbody>\n",
       "    <tr>\n",
       "      <th>PassengerId</th>\n",
       "      <td>891.0</td>\n",
       "      <td>446.000000</td>\n",
       "      <td>257.353842</td>\n",
       "      <td>1.00</td>\n",
       "      <td>223.5000</td>\n",
       "      <td>446.0000</td>\n",
       "      <td>668.5</td>\n",
       "      <td>891.0000</td>\n",
       "    </tr>\n",
       "    <tr>\n",
       "      <th>Survived</th>\n",
       "      <td>891.0</td>\n",
       "      <td>0.383838</td>\n",
       "      <td>0.486592</td>\n",
       "      <td>0.00</td>\n",
       "      <td>0.0000</td>\n",
       "      <td>0.0000</td>\n",
       "      <td>1.0</td>\n",
       "      <td>1.0000</td>\n",
       "    </tr>\n",
       "    <tr>\n",
       "      <th>Pclass</th>\n",
       "      <td>891.0</td>\n",
       "      <td>2.308642</td>\n",
       "      <td>0.836071</td>\n",
       "      <td>1.00</td>\n",
       "      <td>2.0000</td>\n",
       "      <td>3.0000</td>\n",
       "      <td>3.0</td>\n",
       "      <td>3.0000</td>\n",
       "    </tr>\n",
       "    <tr>\n",
       "      <th>Age</th>\n",
       "      <td>714.0</td>\n",
       "      <td>29.699118</td>\n",
       "      <td>14.526497</td>\n",
       "      <td>0.42</td>\n",
       "      <td>20.1250</td>\n",
       "      <td>28.0000</td>\n",
       "      <td>38.0</td>\n",
       "      <td>80.0000</td>\n",
       "    </tr>\n",
       "    <tr>\n",
       "      <th>SibSp</th>\n",
       "      <td>891.0</td>\n",
       "      <td>0.523008</td>\n",
       "      <td>1.102743</td>\n",
       "      <td>0.00</td>\n",
       "      <td>0.0000</td>\n",
       "      <td>0.0000</td>\n",
       "      <td>1.0</td>\n",
       "      <td>8.0000</td>\n",
       "    </tr>\n",
       "    <tr>\n",
       "      <th>Parch</th>\n",
       "      <td>891.0</td>\n",
       "      <td>0.381594</td>\n",
       "      <td>0.806057</td>\n",
       "      <td>0.00</td>\n",
       "      <td>0.0000</td>\n",
       "      <td>0.0000</td>\n",
       "      <td>0.0</td>\n",
       "      <td>6.0000</td>\n",
       "    </tr>\n",
       "    <tr>\n",
       "      <th>Fare</th>\n",
       "      <td>891.0</td>\n",
       "      <td>32.204208</td>\n",
       "      <td>49.693429</td>\n",
       "      <td>0.00</td>\n",
       "      <td>7.9104</td>\n",
       "      <td>14.4542</td>\n",
       "      <td>31.0</td>\n",
       "      <td>512.3292</td>\n",
       "    </tr>\n",
       "  </tbody>\n",
       "</table>\n",
       "</div>"
      ],
      "text/plain": [
       "             count        mean         std   min       25%       50%    75%  \\\n",
       "PassengerId  891.0  446.000000  257.353842  1.00  223.5000  446.0000  668.5   \n",
       "Survived     891.0    0.383838    0.486592  0.00    0.0000    0.0000    1.0   \n",
       "Pclass       891.0    2.308642    0.836071  1.00    2.0000    3.0000    3.0   \n",
       "Age          714.0   29.699118   14.526497  0.42   20.1250   28.0000   38.0   \n",
       "SibSp        891.0    0.523008    1.102743  0.00    0.0000    0.0000    1.0   \n",
       "Parch        891.0    0.381594    0.806057  0.00    0.0000    0.0000    0.0   \n",
       "Fare         891.0   32.204208   49.693429  0.00    7.9104   14.4542   31.0   \n",
       "\n",
       "                  max  \n",
       "PassengerId  891.0000  \n",
       "Survived       1.0000  \n",
       "Pclass         3.0000  \n",
       "Age           80.0000  \n",
       "SibSp          8.0000  \n",
       "Parch          6.0000  \n",
       "Fare         512.3292  "
      ]
     },
     "execution_count": 4,
     "metadata": {},
     "output_type": "execute_result"
    }
   ],
   "source": [
    "df.describe().T "
   ]
  },
  {
   "cell_type": "code",
   "execution_count": 5,
   "metadata": {},
   "outputs": [
    {
     "name": "stdout",
     "output_type": "stream",
     "text": [
      "<class 'pandas.core.frame.DataFrame'>\n",
      "RangeIndex: 891 entries, 0 to 890\n",
      "Data columns (total 12 columns):\n",
      " #   Column       Non-Null Count  Dtype  \n",
      "---  ------       --------------  -----  \n",
      " 0   PassengerId  891 non-null    int64  \n",
      " 1   Survived     891 non-null    int64  \n",
      " 2   Pclass       891 non-null    int64  \n",
      " 3   Name         891 non-null    object \n",
      " 4   Sex          891 non-null    object \n",
      " 5   Age          714 non-null    float64\n",
      " 6   SibSp        891 non-null    int64  \n",
      " 7   Parch        891 non-null    int64  \n",
      " 8   Ticket       891 non-null    object \n",
      " 9   Fare         891 non-null    float64\n",
      " 10  Cabin        204 non-null    object \n",
      " 11  Embarked     889 non-null    object \n",
      "dtypes: float64(2), int64(5), object(5)\n",
      "memory usage: 83.7+ KB\n"
     ]
    }
   ],
   "source": [
    "df.info()"
   ]
  },
  {
   "cell_type": "code",
   "execution_count": 6,
   "metadata": {},
   "outputs": [
    {
     "data": {
      "text/plain": [
       "(PassengerId      0\n",
       " Survived         0\n",
       " Pclass           0\n",
       " Name             0\n",
       " Sex              0\n",
       " Age            177\n",
       " SibSp            0\n",
       " Parch            0\n",
       " Ticket           0\n",
       " Fare             0\n",
       " Cabin          687\n",
       " Embarked         2\n",
       " dtype: int64,\n",
       " PassengerId      0\n",
       " Pclass           0\n",
       " Name             0\n",
       " Sex              0\n",
       " Age             86\n",
       " SibSp            0\n",
       " Parch            0\n",
       " Ticket           0\n",
       " Fare             1\n",
       " Cabin          327\n",
       " Embarked         0\n",
       " dtype: int64)"
      ]
     },
     "execution_count": 6,
     "metadata": {},
     "output_type": "execute_result"
    }
   ],
   "source": [
    "df.isnull().sum(), df_test.isnull().sum()"
   ]
  },
  {
   "cell_type": "code",
   "execution_count": 7,
   "metadata": {},
   "outputs": [
    {
     "data": {
      "text/plain": [
       "0    S\n",
       "dtype: object"
      ]
     },
     "execution_count": 7,
     "metadata": {},
     "output_type": "execute_result"
    }
   ],
   "source": [
    "df['Embarked'].mode()"
   ]
  },
  {
   "cell_type": "code",
   "execution_count": 8,
   "metadata": {},
   "outputs": [
    {
     "data": {
      "text/plain": [
       "(S    646\n",
       " C    168\n",
       " Q     77\n",
       " Name: Embarked, dtype: int64,\n",
       " S    270\n",
       " C    102\n",
       " Q     46\n",
       " Name: Embarked, dtype: int64)"
      ]
     },
     "execution_count": 8,
     "metadata": {},
     "output_type": "execute_result"
    }
   ],
   "source": [
    "df['Embarked'] = df['Embarked'].fillna('S')\n",
    "df['Embarked'].value_counts(), df_test['Embarked'].value_counts()"
   ]
  },
  {
   "cell_type": "code",
   "execution_count": 9,
   "metadata": {},
   "outputs": [
    {
     "data": {
      "text/plain": [
       "Pclass  Embarked\n",
       "1       C           104.718529\n",
       "        Q            90.000000\n",
       "        S            70.514244\n",
       "2       C            25.358335\n",
       "        Q            12.350000\n",
       "        S            20.327439\n",
       "3       C            11.214083\n",
       "        Q            11.183393\n",
       "        S            14.644083\n",
       "Name: Fare, dtype: float64"
      ]
     },
     "execution_count": 9,
     "metadata": {},
     "output_type": "execute_result"
    }
   ],
   "source": [
    "df.groupby(['Pclass', 'Embarked'])['Fare'].mean()"
   ]
  },
  {
   "cell_type": "code",
   "execution_count": 10,
   "metadata": {},
   "outputs": [
    {
     "data": {
      "text/html": [
       "<div>\n",
       "<style scoped>\n",
       "    .dataframe tbody tr th:only-of-type {\n",
       "        vertical-align: middle;\n",
       "    }\n",
       "\n",
       "    .dataframe tbody tr th {\n",
       "        vertical-align: top;\n",
       "    }\n",
       "\n",
       "    .dataframe thead th {\n",
       "        text-align: right;\n",
       "    }\n",
       "</style>\n",
       "<table border=\"1\" class=\"dataframe\">\n",
       "  <thead>\n",
       "    <tr style=\"text-align: right;\">\n",
       "      <th></th>\n",
       "      <th>PassengerId</th>\n",
       "      <th>Pclass</th>\n",
       "      <th>Name</th>\n",
       "      <th>Sex</th>\n",
       "      <th>Age</th>\n",
       "      <th>SibSp</th>\n",
       "      <th>Parch</th>\n",
       "      <th>Ticket</th>\n",
       "      <th>Fare</th>\n",
       "      <th>Cabin</th>\n",
       "      <th>Embarked</th>\n",
       "    </tr>\n",
       "  </thead>\n",
       "  <tbody>\n",
       "    <tr>\n",
       "      <th>152</th>\n",
       "      <td>1044</td>\n",
       "      <td>3</td>\n",
       "      <td>Storey, Mr. Thomas</td>\n",
       "      <td>male</td>\n",
       "      <td>60.5</td>\n",
       "      <td>0</td>\n",
       "      <td>0</td>\n",
       "      <td>3701</td>\n",
       "      <td>NaN</td>\n",
       "      <td>NaN</td>\n",
       "      <td>S</td>\n",
       "    </tr>\n",
       "  </tbody>\n",
       "</table>\n",
       "</div>"
      ],
      "text/plain": [
       "     PassengerId  Pclass                Name   Sex   Age  SibSp  Parch Ticket  \\\n",
       "152         1044       3  Storey, Mr. Thomas  male  60.5      0      0   3701   \n",
       "\n",
       "     Fare Cabin Embarked  \n",
       "152   NaN   NaN        S  "
      ]
     },
     "execution_count": 10,
     "metadata": {},
     "output_type": "execute_result"
    }
   ],
   "source": [
    "df_test[df_test['Fare'].isna()]"
   ]
  },
  {
   "cell_type": "code",
   "execution_count": 11,
   "metadata": {},
   "outputs": [],
   "source": [
    "df_test['Fare'] = df_test['Fare'].fillna('14.644083')"
   ]
  },
  {
   "cell_type": "markdown",
   "metadata": {},
   "source": [
    "# Getting Titles as a new feature"
   ]
  },
  {
   "cell_type": "code",
   "execution_count": 12,
   "metadata": {},
   "outputs": [
    {
     "data": {
      "text/html": [
       "<div>\n",
       "<style scoped>\n",
       "    .dataframe tbody tr th:only-of-type {\n",
       "        vertical-align: middle;\n",
       "    }\n",
       "\n",
       "    .dataframe tbody tr th {\n",
       "        vertical-align: top;\n",
       "    }\n",
       "\n",
       "    .dataframe thead th {\n",
       "        text-align: right;\n",
       "    }\n",
       "</style>\n",
       "<table border=\"1\" class=\"dataframe\">\n",
       "  <thead>\n",
       "    <tr style=\"text-align: right;\">\n",
       "      <th></th>\n",
       "      <th>PassengerId</th>\n",
       "      <th>Survived</th>\n",
       "      <th>Pclass</th>\n",
       "      <th>Name</th>\n",
       "      <th>Sex</th>\n",
       "      <th>Age</th>\n",
       "      <th>SibSp</th>\n",
       "      <th>Parch</th>\n",
       "      <th>Ticket</th>\n",
       "      <th>Fare</th>\n",
       "      <th>Cabin</th>\n",
       "      <th>Embarked</th>\n",
       "    </tr>\n",
       "  </thead>\n",
       "  <tbody>\n",
       "    <tr>\n",
       "      <th>0</th>\n",
       "      <td>1</td>\n",
       "      <td>0</td>\n",
       "      <td>3</td>\n",
       "      <td>Braund, Mr. Owen Harris</td>\n",
       "      <td>male</td>\n",
       "      <td>22.0</td>\n",
       "      <td>1</td>\n",
       "      <td>0</td>\n",
       "      <td>A/5 21171</td>\n",
       "      <td>7.2500</td>\n",
       "      <td>NaN</td>\n",
       "      <td>S</td>\n",
       "    </tr>\n",
       "    <tr>\n",
       "      <th>1</th>\n",
       "      <td>2</td>\n",
       "      <td>1</td>\n",
       "      <td>1</td>\n",
       "      <td>Cumings, Mrs. John Bradley (Florence Briggs Th...</td>\n",
       "      <td>female</td>\n",
       "      <td>38.0</td>\n",
       "      <td>1</td>\n",
       "      <td>0</td>\n",
       "      <td>PC 17599</td>\n",
       "      <td>71.2833</td>\n",
       "      <td>C85</td>\n",
       "      <td>C</td>\n",
       "    </tr>\n",
       "    <tr>\n",
       "      <th>2</th>\n",
       "      <td>3</td>\n",
       "      <td>1</td>\n",
       "      <td>3</td>\n",
       "      <td>Heikkinen, Miss. Laina</td>\n",
       "      <td>female</td>\n",
       "      <td>26.0</td>\n",
       "      <td>0</td>\n",
       "      <td>0</td>\n",
       "      <td>STON/O2. 3101282</td>\n",
       "      <td>7.9250</td>\n",
       "      <td>NaN</td>\n",
       "      <td>S</td>\n",
       "    </tr>\n",
       "    <tr>\n",
       "      <th>3</th>\n",
       "      <td>4</td>\n",
       "      <td>1</td>\n",
       "      <td>1</td>\n",
       "      <td>Futrelle, Mrs. Jacques Heath (Lily May Peel)</td>\n",
       "      <td>female</td>\n",
       "      <td>35.0</td>\n",
       "      <td>1</td>\n",
       "      <td>0</td>\n",
       "      <td>113803</td>\n",
       "      <td>53.1000</td>\n",
       "      <td>C123</td>\n",
       "      <td>S</td>\n",
       "    </tr>\n",
       "    <tr>\n",
       "      <th>4</th>\n",
       "      <td>5</td>\n",
       "      <td>0</td>\n",
       "      <td>3</td>\n",
       "      <td>Allen, Mr. William Henry</td>\n",
       "      <td>male</td>\n",
       "      <td>35.0</td>\n",
       "      <td>0</td>\n",
       "      <td>0</td>\n",
       "      <td>373450</td>\n",
       "      <td>8.0500</td>\n",
       "      <td>NaN</td>\n",
       "      <td>S</td>\n",
       "    </tr>\n",
       "  </tbody>\n",
       "</table>\n",
       "</div>"
      ],
      "text/plain": [
       "   PassengerId  Survived  Pclass  \\\n",
       "0            1         0       3   \n",
       "1            2         1       1   \n",
       "2            3         1       3   \n",
       "3            4         1       1   \n",
       "4            5         0       3   \n",
       "\n",
       "                                                Name     Sex   Age  SibSp  \\\n",
       "0                            Braund, Mr. Owen Harris    male  22.0      1   \n",
       "1  Cumings, Mrs. John Bradley (Florence Briggs Th...  female  38.0      1   \n",
       "2                             Heikkinen, Miss. Laina  female  26.0      0   \n",
       "3       Futrelle, Mrs. Jacques Heath (Lily May Peel)  female  35.0      1   \n",
       "4                           Allen, Mr. William Henry    male  35.0      0   \n",
       "\n",
       "   Parch            Ticket     Fare Cabin Embarked  \n",
       "0      0         A/5 21171   7.2500   NaN        S  \n",
       "1      0          PC 17599  71.2833   C85        C  \n",
       "2      0  STON/O2. 3101282   7.9250   NaN        S  \n",
       "3      0            113803  53.1000  C123        S  \n",
       "4      0            373450   8.0500   NaN        S  "
      ]
     },
     "execution_count": 12,
     "metadata": {},
     "output_type": "execute_result"
    }
   ],
   "source": [
    "df.head()"
   ]
  },
  {
   "cell_type": "code",
   "execution_count": 13,
   "metadata": {},
   "outputs": [],
   "source": [
    "df['Title'] = df['Name'].apply(lambda x: x.split(',')[1].split('.')[0].strip())\n",
    "df_test['Title'] = df_test['Name'].apply(lambda x: x.split(',')[1].split('.')[0].strip())"
   ]
  },
  {
   "cell_type": "code",
   "execution_count": 14,
   "metadata": {},
   "outputs": [
    {
     "data": {
      "text/plain": [
       "Mr              517\n",
       "Miss            182\n",
       "Mrs             125\n",
       "Master           40\n",
       "Dr                7\n",
       "Rev               6\n",
       "Col               2\n",
       "Major             2\n",
       "Mlle              2\n",
       "Capt              1\n",
       "Sir               1\n",
       "Don               1\n",
       "the Countess      1\n",
       "Ms                1\n",
       "Mme               1\n",
       "Jonkheer          1\n",
       "Lady              1\n",
       "Name: Title, dtype: int64"
      ]
     },
     "execution_count": 14,
     "metadata": {},
     "output_type": "execute_result"
    }
   ],
   "source": [
    "df['Title'].value_counts()"
   ]
  },
  {
   "cell_type": "code",
   "execution_count": 15,
   "metadata": {},
   "outputs": [
    {
     "data": {
      "text/plain": [
       "array(['Mr', 'Mrs', 'Miss', 'Master', 'Ms', 'Col', 'Rev', 'Dr', 'Dona'],\n",
       "      dtype=object)"
      ]
     },
     "execution_count": 15,
     "metadata": {},
     "output_type": "execute_result"
    }
   ],
   "source": [
    "df_test['Title'].unique()"
   ]
  },
  {
   "cell_type": "code",
   "execution_count": 16,
   "metadata": {},
   "outputs": [
    {
     "data": {
      "text/plain": [
       "array(['Don', 'Rev', 'Dr', 'Mme', 'Ms', 'Major', 'Lady', 'Sir', 'Mlle',\n",
       "       'Col', 'Capt', 'the Countess', 'Jonkheer'], dtype=object)"
      ]
     },
     "execution_count": 16,
     "metadata": {},
     "output_type": "execute_result"
    }
   ],
   "source": [
    "df['Title'].unique()[4:]"
   ]
  },
  {
   "cell_type": "code",
   "execution_count": 17,
   "metadata": {},
   "outputs": [
    {
     "data": {
      "text/plain": [
       "['Don',\n",
       " 'Rev',\n",
       " 'Dr',\n",
       " 'Mme',\n",
       " 'Ms',\n",
       " 'Major',\n",
       " 'Lady',\n",
       " 'Sir',\n",
       " 'Mlle',\n",
       " 'Col',\n",
       " 'Capt',\n",
       " 'the Countess',\n",
       " 'Jonkheer',\n",
       " 'Dona']"
      ]
     },
     "execution_count": 17,
     "metadata": {},
     "output_type": "execute_result"
    }
   ],
   "source": [
    "rares = df['Title'].unique()[4:]\n",
    "rares = rares.tolist()\n",
    "rares.append('Dona')\n",
    "rares"
   ]
  },
  {
   "cell_type": "code",
   "execution_count": 18,
   "metadata": {},
   "outputs": [],
   "source": [
    "df['Title'] = df['Title'].apply(lambda x: x.replace(x, 'Rare') if x in rares else x)\n",
    "df_test['Title'] = df_test['Title'].apply(lambda x: x.replace(x, 'Rare') if x in rares else x)"
   ]
  },
  {
   "cell_type": "code",
   "execution_count": 19,
   "metadata": {},
   "outputs": [
    {
     "data": {
      "text/plain": [
       "Mr        517\n",
       "Miss      182\n",
       "Mrs       125\n",
       "Master     40\n",
       "Rare       27\n",
       "Name: Title, dtype: int64"
      ]
     },
     "execution_count": 19,
     "metadata": {},
     "output_type": "execute_result"
    }
   ],
   "source": [
    "df['Title'].value_counts()"
   ]
  },
  {
   "cell_type": "code",
   "execution_count": 20,
   "metadata": {},
   "outputs": [],
   "source": [
    "df['Title'] = df['Title'].map({\n",
    "    'Mr': 1,\n",
    "    'Miss': 2,\n",
    "    'Mrs': 3,\n",
    "    'Master': 4,\n",
    "    'Rare': 5\n",
    "})\n",
    "df_test['Title'] = df_test['Title'].map({\n",
    "    'Mr': 1,\n",
    "    'Miss': 2,\n",
    "    'Mrs': 3,\n",
    "    'Master': 4,\n",
    "    'Rare': 5\n",
    "})"
   ]
  },
  {
   "cell_type": "code",
   "execution_count": 224,
   "metadata": {},
   "outputs": [
    {
     "data": {
      "text/plain": [
       "Title\n",
       "1    0.156673\n",
       "2    0.697802\n",
       "3    0.792000\n",
       "4    0.575000\n",
       "5    0.444444\n",
       "Name: Survived, dtype: float64"
      ]
     },
     "execution_count": 224,
     "metadata": {},
     "output_type": "execute_result"
    }
   ],
   "source": [
    "df.groupby('Title')['Survived'].mean()"
   ]
  },
  {
   "cell_type": "code",
   "execution_count": 21,
   "metadata": {},
   "outputs": [
    {
     "data": {
      "text/plain": [
       "S    646\n",
       "C    168\n",
       "Q     77\n",
       "Name: Embarked, dtype: int64"
      ]
     },
     "execution_count": 21,
     "metadata": {},
     "output_type": "execute_result"
    }
   ],
   "source": [
    "df['Embarked'].value_counts()"
   ]
  },
  {
   "cell_type": "code",
   "execution_count": 22,
   "metadata": {},
   "outputs": [],
   "source": [
    "embarked_coded = {'S': 1,\n",
    "                  'C': 2,\n",
    "                  'Q': 3}"
   ]
  },
  {
   "cell_type": "code",
   "execution_count": 23,
   "metadata": {},
   "outputs": [],
   "source": [
    "df['Embarked'] = df['Embarked'].map(embarked_coded)\n",
    "df_test['Embarked'] = df_test['Embarked'].map(embarked_coded)"
   ]
  },
  {
   "cell_type": "code",
   "execution_count": 24,
   "metadata": {},
   "outputs": [
    {
     "data": {
      "text/html": [
       "<div>\n",
       "<style scoped>\n",
       "    .dataframe tbody tr th:only-of-type {\n",
       "        vertical-align: middle;\n",
       "    }\n",
       "\n",
       "    .dataframe tbody tr th {\n",
       "        vertical-align: top;\n",
       "    }\n",
       "\n",
       "    .dataframe thead th {\n",
       "        text-align: right;\n",
       "    }\n",
       "</style>\n",
       "<table border=\"1\" class=\"dataframe\">\n",
       "  <thead>\n",
       "    <tr style=\"text-align: right;\">\n",
       "      <th></th>\n",
       "      <th>PassengerId</th>\n",
       "      <th>Survived</th>\n",
       "      <th>Pclass</th>\n",
       "      <th>Name</th>\n",
       "      <th>Sex</th>\n",
       "      <th>Age</th>\n",
       "      <th>SibSp</th>\n",
       "      <th>Parch</th>\n",
       "      <th>Ticket</th>\n",
       "      <th>Fare</th>\n",
       "      <th>Cabin</th>\n",
       "      <th>Embarked</th>\n",
       "      <th>Title</th>\n",
       "    </tr>\n",
       "  </thead>\n",
       "  <tbody>\n",
       "    <tr>\n",
       "      <th>0</th>\n",
       "      <td>1</td>\n",
       "      <td>0</td>\n",
       "      <td>3</td>\n",
       "      <td>Braund, Mr. Owen Harris</td>\n",
       "      <td>male</td>\n",
       "      <td>22.0</td>\n",
       "      <td>1</td>\n",
       "      <td>0</td>\n",
       "      <td>A/5 21171</td>\n",
       "      <td>7.2500</td>\n",
       "      <td>NaN</td>\n",
       "      <td>1</td>\n",
       "      <td>1</td>\n",
       "    </tr>\n",
       "    <tr>\n",
       "      <th>1</th>\n",
       "      <td>2</td>\n",
       "      <td>1</td>\n",
       "      <td>1</td>\n",
       "      <td>Cumings, Mrs. John Bradley (Florence Briggs Th...</td>\n",
       "      <td>female</td>\n",
       "      <td>38.0</td>\n",
       "      <td>1</td>\n",
       "      <td>0</td>\n",
       "      <td>PC 17599</td>\n",
       "      <td>71.2833</td>\n",
       "      <td>C85</td>\n",
       "      <td>2</td>\n",
       "      <td>3</td>\n",
       "    </tr>\n",
       "    <tr>\n",
       "      <th>2</th>\n",
       "      <td>3</td>\n",
       "      <td>1</td>\n",
       "      <td>3</td>\n",
       "      <td>Heikkinen, Miss. Laina</td>\n",
       "      <td>female</td>\n",
       "      <td>26.0</td>\n",
       "      <td>0</td>\n",
       "      <td>0</td>\n",
       "      <td>STON/O2. 3101282</td>\n",
       "      <td>7.9250</td>\n",
       "      <td>NaN</td>\n",
       "      <td>1</td>\n",
       "      <td>2</td>\n",
       "    </tr>\n",
       "    <tr>\n",
       "      <th>3</th>\n",
       "      <td>4</td>\n",
       "      <td>1</td>\n",
       "      <td>1</td>\n",
       "      <td>Futrelle, Mrs. Jacques Heath (Lily May Peel)</td>\n",
       "      <td>female</td>\n",
       "      <td>35.0</td>\n",
       "      <td>1</td>\n",
       "      <td>0</td>\n",
       "      <td>113803</td>\n",
       "      <td>53.1000</td>\n",
       "      <td>C123</td>\n",
       "      <td>1</td>\n",
       "      <td>3</td>\n",
       "    </tr>\n",
       "    <tr>\n",
       "      <th>4</th>\n",
       "      <td>5</td>\n",
       "      <td>0</td>\n",
       "      <td>3</td>\n",
       "      <td>Allen, Mr. William Henry</td>\n",
       "      <td>male</td>\n",
       "      <td>35.0</td>\n",
       "      <td>0</td>\n",
       "      <td>0</td>\n",
       "      <td>373450</td>\n",
       "      <td>8.0500</td>\n",
       "      <td>NaN</td>\n",
       "      <td>1</td>\n",
       "      <td>1</td>\n",
       "    </tr>\n",
       "  </tbody>\n",
       "</table>\n",
       "</div>"
      ],
      "text/plain": [
       "   PassengerId  Survived  Pclass  \\\n",
       "0            1         0       3   \n",
       "1            2         1       1   \n",
       "2            3         1       3   \n",
       "3            4         1       1   \n",
       "4            5         0       3   \n",
       "\n",
       "                                                Name     Sex   Age  SibSp  \\\n",
       "0                            Braund, Mr. Owen Harris    male  22.0      1   \n",
       "1  Cumings, Mrs. John Bradley (Florence Briggs Th...  female  38.0      1   \n",
       "2                             Heikkinen, Miss. Laina  female  26.0      0   \n",
       "3       Futrelle, Mrs. Jacques Heath (Lily May Peel)  female  35.0      1   \n",
       "4                           Allen, Mr. William Henry    male  35.0      0   \n",
       "\n",
       "   Parch            Ticket     Fare Cabin  Embarked  Title  \n",
       "0      0         A/5 21171   7.2500   NaN         1      1  \n",
       "1      0          PC 17599  71.2833   C85         2      3  \n",
       "2      0  STON/O2. 3101282   7.9250   NaN         1      2  \n",
       "3      0            113803  53.1000  C123         1      3  \n",
       "4      0            373450   8.0500   NaN         1      1  "
      ]
     },
     "execution_count": 24,
     "metadata": {},
     "output_type": "execute_result"
    }
   ],
   "source": [
    "df.head()"
   ]
  },
  {
   "cell_type": "markdown",
   "metadata": {},
   "source": [
    "## Filling Some Missing Values"
   ]
  },
  {
   "cell_type": "code",
   "execution_count": 25,
   "metadata": {},
   "outputs": [],
   "source": [
    "mrAge = df[df['Title'] == 1]['Age'].mean()\n",
    "missAge = df[df['Title'] == 2]['Age'].mean()\n",
    "mrsAge = df[df['Title'] == 3]['Age'].mean()\n",
    "masterAge = df[df['Title'] == 4]['Age'].mean()\n",
    "rareWomenAge = df[(df['Title'] == 5) & (df['Sex'] == 'female')]['Age'].mean()\n",
    "rareMenAge = df[(df['Title'] == 5) & (df['Sex'] == 'male')]['Age'].mean()"
   ]
  },
  {
   "cell_type": "code",
   "execution_count": 26,
   "metadata": {},
   "outputs": [
    {
     "name": "stdout",
     "output_type": "stream",
     "text": [
      " Mr average age: 32 \n",
      " Miss average age: 22 \n",
      " Mrs average age: 36 \n",
      " Master average age: 5 \n",
      " Rare women average age: 33 \n",
      " Rare men average age: 46\n"
     ]
    }
   ],
   "source": [
    "print(' Mr average age:', round(mrAge), '\\n',\n",
    "'Miss average age:', round(missAge), '\\n',\n",
    "'Mrs average age:', round(mrsAge), '\\n',\n",
    "'Master average age:', round(masterAge), '\\n',\n",
    "'Rare women average age:', round(rareWomenAge), '\\n',\n",
    "'Rare men average age:', round(rareMenAge))"
   ]
  },
  {
   "cell_type": "code",
   "execution_count": 27,
   "metadata": {},
   "outputs": [],
   "source": [
    "null_ages = df[df['Age'].isnull()]"
   ]
  },
  {
   "cell_type": "code",
   "execution_count": 28,
   "metadata": {},
   "outputs": [],
   "source": [
    "null_test_ages = df_test[df_test['Age'].isnull()]"
   ]
  },
  {
   "cell_type": "code",
   "execution_count": 29,
   "metadata": {},
   "outputs": [],
   "source": [
    "def fill_ages(title, sex):\n",
    "    if title == 1:\n",
    "        age = 32\n",
    "    elif title == 2:\n",
    "        age = 22\n",
    "    elif title == 3:\n",
    "        age = 36\n",
    "    elif title == 4:\n",
    "        age = 5\n",
    "    elif (title == 5) & (sex == 'female'):\n",
    "        age = 33\n",
    "    elif (title == 5) & (sex == 'male'):\n",
    "        age = 46\n",
    "    return age"
   ]
  },
  {
   "cell_type": "code",
   "execution_count": 30,
   "metadata": {},
   "outputs": [],
   "source": [
    "null_ages = null_ages.apply(lambda x: fill_ages(x['Title'], x['Sex']), axis = 1)"
   ]
  },
  {
   "cell_type": "code",
   "execution_count": 31,
   "metadata": {},
   "outputs": [],
   "source": [
    "null_test_ages = null_test_ages.apply(lambda x: fill_ages(x['Title'], x['Sex']), axis = 1)"
   ]
  },
  {
   "cell_type": "code",
   "execution_count": 32,
   "metadata": {},
   "outputs": [],
   "source": [
    "df['Age'].fillna(null_ages, inplace = True)"
   ]
  },
  {
   "cell_type": "code",
   "execution_count": 33,
   "metadata": {},
   "outputs": [],
   "source": [
    "df_test['Age'].fillna(null_test_ages, inplace = True)"
   ]
  },
  {
   "cell_type": "code",
   "execution_count": 34,
   "metadata": {},
   "outputs": [
    {
     "data": {
      "text/plain": [
       "Title  Sex   \n",
       "1      male      32.283366\n",
       "2      female    21.818681\n",
       "3      female    35.912000\n",
       "4      male       4.616750\n",
       "5      female    32.857143\n",
       "       male      45.900000\n",
       "Name: Age, dtype: float64"
      ]
     },
     "execution_count": 34,
     "metadata": {},
     "output_type": "execute_result"
    }
   ],
   "source": [
    "df.groupby(['Title', 'Sex'])['Age'].mean()"
   ]
  },
  {
   "cell_type": "markdown",
   "metadata": {},
   "source": [
    "### Dropping unnecessary columns"
   ]
  },
  {
   "cell_type": "code",
   "execution_count": 35,
   "metadata": {},
   "outputs": [],
   "source": [
    "df = df.drop(['Cabin'], axis=1)\n",
    "df = df.drop(['Ticket'], axis=1)\n",
    "df = df.drop(['Name'], axis = 1)"
   ]
  },
  {
   "cell_type": "code",
   "execution_count": 36,
   "metadata": {},
   "outputs": [
    {
     "data": {
      "text/html": [
       "<div>\n",
       "<style scoped>\n",
       "    .dataframe tbody tr th:only-of-type {\n",
       "        vertical-align: middle;\n",
       "    }\n",
       "\n",
       "    .dataframe tbody tr th {\n",
       "        vertical-align: top;\n",
       "    }\n",
       "\n",
       "    .dataframe thead th {\n",
       "        text-align: right;\n",
       "    }\n",
       "</style>\n",
       "<table border=\"1\" class=\"dataframe\">\n",
       "  <thead>\n",
       "    <tr style=\"text-align: right;\">\n",
       "      <th></th>\n",
       "      <th>PassengerId</th>\n",
       "      <th>Survived</th>\n",
       "      <th>Pclass</th>\n",
       "      <th>Sex</th>\n",
       "      <th>Age</th>\n",
       "      <th>SibSp</th>\n",
       "      <th>Parch</th>\n",
       "      <th>Fare</th>\n",
       "      <th>Embarked</th>\n",
       "      <th>Title</th>\n",
       "    </tr>\n",
       "  </thead>\n",
       "  <tbody>\n",
       "    <tr>\n",
       "      <th>0</th>\n",
       "      <td>1</td>\n",
       "      <td>0</td>\n",
       "      <td>3</td>\n",
       "      <td>male</td>\n",
       "      <td>22.0</td>\n",
       "      <td>1</td>\n",
       "      <td>0</td>\n",
       "      <td>7.25</td>\n",
       "      <td>1</td>\n",
       "      <td>1</td>\n",
       "    </tr>\n",
       "  </tbody>\n",
       "</table>\n",
       "</div>"
      ],
      "text/plain": [
       "   PassengerId  Survived  Pclass   Sex   Age  SibSp  Parch  Fare  Embarked  \\\n",
       "0            1         0       3  male  22.0      1      0  7.25         1   \n",
       "\n",
       "   Title  \n",
       "0      1  "
      ]
     },
     "execution_count": 36,
     "metadata": {},
     "output_type": "execute_result"
    }
   ],
   "source": [
    "df.head(1)"
   ]
  },
  {
   "cell_type": "code",
   "execution_count": 37,
   "metadata": {},
   "outputs": [],
   "source": [
    "df_test = df_test.drop(['Cabin', 'Ticket'], axis = 1)"
   ]
  },
  {
   "cell_type": "code",
   "execution_count": 38,
   "metadata": {},
   "outputs": [],
   "source": [
    "df_test = df_test.drop('Name', axis = 1)"
   ]
  },
  {
   "cell_type": "code",
   "execution_count": 39,
   "metadata": {},
   "outputs": [],
   "source": [
    "gender_encoding = {'male': 0,\n",
    "                   'female': 1}\n",
    "df['Sex'] = df['Sex'].map(gender_encoding)\n",
    "df_test['Sex'] = df_test['Sex'].map(gender_encoding)"
   ]
  },
  {
   "cell_type": "code",
   "execution_count": 40,
   "metadata": {},
   "outputs": [
    {
     "data": {
      "text/html": [
       "<div>\n",
       "<style scoped>\n",
       "    .dataframe tbody tr th:only-of-type {\n",
       "        vertical-align: middle;\n",
       "    }\n",
       "\n",
       "    .dataframe tbody tr th {\n",
       "        vertical-align: top;\n",
       "    }\n",
       "\n",
       "    .dataframe thead th {\n",
       "        text-align: right;\n",
       "    }\n",
       "</style>\n",
       "<table border=\"1\" class=\"dataframe\">\n",
       "  <thead>\n",
       "    <tr style=\"text-align: right;\">\n",
       "      <th></th>\n",
       "      <th>PassengerId</th>\n",
       "      <th>Survived</th>\n",
       "      <th>Pclass</th>\n",
       "      <th>Sex</th>\n",
       "      <th>Age</th>\n",
       "      <th>SibSp</th>\n",
       "      <th>Parch</th>\n",
       "      <th>Fare</th>\n",
       "      <th>Embarked</th>\n",
       "      <th>Title</th>\n",
       "    </tr>\n",
       "  </thead>\n",
       "  <tbody>\n",
       "    <tr>\n",
       "      <th>0</th>\n",
       "      <td>1</td>\n",
       "      <td>0</td>\n",
       "      <td>3</td>\n",
       "      <td>0</td>\n",
       "      <td>22.0</td>\n",
       "      <td>1</td>\n",
       "      <td>0</td>\n",
       "      <td>7.2500</td>\n",
       "      <td>1</td>\n",
       "      <td>1</td>\n",
       "    </tr>\n",
       "    <tr>\n",
       "      <th>1</th>\n",
       "      <td>2</td>\n",
       "      <td>1</td>\n",
       "      <td>1</td>\n",
       "      <td>1</td>\n",
       "      <td>38.0</td>\n",
       "      <td>1</td>\n",
       "      <td>0</td>\n",
       "      <td>71.2833</td>\n",
       "      <td>2</td>\n",
       "      <td>3</td>\n",
       "    </tr>\n",
       "    <tr>\n",
       "      <th>2</th>\n",
       "      <td>3</td>\n",
       "      <td>1</td>\n",
       "      <td>3</td>\n",
       "      <td>1</td>\n",
       "      <td>26.0</td>\n",
       "      <td>0</td>\n",
       "      <td>0</td>\n",
       "      <td>7.9250</td>\n",
       "      <td>1</td>\n",
       "      <td>2</td>\n",
       "    </tr>\n",
       "    <tr>\n",
       "      <th>3</th>\n",
       "      <td>4</td>\n",
       "      <td>1</td>\n",
       "      <td>1</td>\n",
       "      <td>1</td>\n",
       "      <td>35.0</td>\n",
       "      <td>1</td>\n",
       "      <td>0</td>\n",
       "      <td>53.1000</td>\n",
       "      <td>1</td>\n",
       "      <td>3</td>\n",
       "    </tr>\n",
       "    <tr>\n",
       "      <th>4</th>\n",
       "      <td>5</td>\n",
       "      <td>0</td>\n",
       "      <td>3</td>\n",
       "      <td>0</td>\n",
       "      <td>35.0</td>\n",
       "      <td>0</td>\n",
       "      <td>0</td>\n",
       "      <td>8.0500</td>\n",
       "      <td>1</td>\n",
       "      <td>1</td>\n",
       "    </tr>\n",
       "  </tbody>\n",
       "</table>\n",
       "</div>"
      ],
      "text/plain": [
       "   PassengerId  Survived  Pclass  Sex   Age  SibSp  Parch     Fare  Embarked  \\\n",
       "0            1         0       3    0  22.0      1      0   7.2500         1   \n",
       "1            2         1       1    1  38.0      1      0  71.2833         2   \n",
       "2            3         1       3    1  26.0      0      0   7.9250         1   \n",
       "3            4         1       1    1  35.0      1      0  53.1000         1   \n",
       "4            5         0       3    0  35.0      0      0   8.0500         1   \n",
       "\n",
       "   Title  \n",
       "0      1  \n",
       "1      3  \n",
       "2      2  \n",
       "3      3  \n",
       "4      1  "
      ]
     },
     "execution_count": 40,
     "metadata": {},
     "output_type": "execute_result"
    }
   ],
   "source": [
    "df.head()"
   ]
  },
  {
   "cell_type": "code",
   "execution_count": 41,
   "metadata": {},
   "outputs": [
    {
     "data": {
      "text/html": [
       "<div>\n",
       "<style scoped>\n",
       "    .dataframe tbody tr th:only-of-type {\n",
       "        vertical-align: middle;\n",
       "    }\n",
       "\n",
       "    .dataframe tbody tr th {\n",
       "        vertical-align: top;\n",
       "    }\n",
       "\n",
       "    .dataframe thead th {\n",
       "        text-align: right;\n",
       "    }\n",
       "</style>\n",
       "<table border=\"1\" class=\"dataframe\">\n",
       "  <thead>\n",
       "    <tr style=\"text-align: right;\">\n",
       "      <th></th>\n",
       "      <th>PassengerId</th>\n",
       "      <th>Survived</th>\n",
       "      <th>Pclass</th>\n",
       "      <th>Sex</th>\n",
       "      <th>Age</th>\n",
       "      <th>SibSp</th>\n",
       "      <th>Parch</th>\n",
       "      <th>Fare</th>\n",
       "      <th>Embarked</th>\n",
       "      <th>Title</th>\n",
       "      <th>FamilySize</th>\n",
       "    </tr>\n",
       "  </thead>\n",
       "  <tbody>\n",
       "    <tr>\n",
       "      <th>0</th>\n",
       "      <td>1</td>\n",
       "      <td>0</td>\n",
       "      <td>3</td>\n",
       "      <td>0</td>\n",
       "      <td>22.0</td>\n",
       "      <td>1</td>\n",
       "      <td>0</td>\n",
       "      <td>7.2500</td>\n",
       "      <td>1</td>\n",
       "      <td>1</td>\n",
       "      <td>2</td>\n",
       "    </tr>\n",
       "    <tr>\n",
       "      <th>1</th>\n",
       "      <td>2</td>\n",
       "      <td>1</td>\n",
       "      <td>1</td>\n",
       "      <td>1</td>\n",
       "      <td>38.0</td>\n",
       "      <td>1</td>\n",
       "      <td>0</td>\n",
       "      <td>71.2833</td>\n",
       "      <td>2</td>\n",
       "      <td>3</td>\n",
       "      <td>2</td>\n",
       "    </tr>\n",
       "    <tr>\n",
       "      <th>2</th>\n",
       "      <td>3</td>\n",
       "      <td>1</td>\n",
       "      <td>3</td>\n",
       "      <td>1</td>\n",
       "      <td>26.0</td>\n",
       "      <td>0</td>\n",
       "      <td>0</td>\n",
       "      <td>7.9250</td>\n",
       "      <td>1</td>\n",
       "      <td>2</td>\n",
       "      <td>1</td>\n",
       "    </tr>\n",
       "    <tr>\n",
       "      <th>3</th>\n",
       "      <td>4</td>\n",
       "      <td>1</td>\n",
       "      <td>1</td>\n",
       "      <td>1</td>\n",
       "      <td>35.0</td>\n",
       "      <td>1</td>\n",
       "      <td>0</td>\n",
       "      <td>53.1000</td>\n",
       "      <td>1</td>\n",
       "      <td>3</td>\n",
       "      <td>2</td>\n",
       "    </tr>\n",
       "    <tr>\n",
       "      <th>4</th>\n",
       "      <td>5</td>\n",
       "      <td>0</td>\n",
       "      <td>3</td>\n",
       "      <td>0</td>\n",
       "      <td>35.0</td>\n",
       "      <td>0</td>\n",
       "      <td>0</td>\n",
       "      <td>8.0500</td>\n",
       "      <td>1</td>\n",
       "      <td>1</td>\n",
       "      <td>1</td>\n",
       "    </tr>\n",
       "  </tbody>\n",
       "</table>\n",
       "</div>"
      ],
      "text/plain": [
       "   PassengerId  Survived  Pclass  Sex   Age  SibSp  Parch     Fare  Embarked  \\\n",
       "0            1         0       3    0  22.0      1      0   7.2500         1   \n",
       "1            2         1       1    1  38.0      1      0  71.2833         2   \n",
       "2            3         1       3    1  26.0      0      0   7.9250         1   \n",
       "3            4         1       1    1  35.0      1      0  53.1000         1   \n",
       "4            5         0       3    0  35.0      0      0   8.0500         1   \n",
       "\n",
       "   Title  FamilySize  \n",
       "0      1           2  \n",
       "1      3           2  \n",
       "2      2           1  \n",
       "3      3           2  \n",
       "4      1           1  "
      ]
     },
     "execution_count": 41,
     "metadata": {},
     "output_type": "execute_result"
    }
   ],
   "source": [
    "df['FamilySize'] = df['SibSp'] + df['Parch'] + 1\n",
    "df_test['FamilySize'] = df_test['SibSp'] + df_test['Parch'] + 1\n",
    "df.head()"
   ]
  },
  {
   "cell_type": "code",
   "execution_count": 42,
   "metadata": {},
   "outputs": [
    {
     "data": {
      "text/plain": [
       "FamilySize\n",
       "1     30.353818\n",
       "2     55.279503\n",
       "3     57.843137\n",
       "4     72.413793\n",
       "5     20.000000\n",
       "6     13.636364\n",
       "7     33.333333\n",
       "8      0.000000\n",
       "11     0.000000\n",
       "Name: Survived, dtype: float64"
      ]
     },
     "execution_count": 42,
     "metadata": {},
     "output_type": "execute_result"
    }
   ],
   "source": [
    "family_size = df.groupby('FamilySize')['Survived'].mean()*100\n",
    "family_size"
   ]
  },
  {
   "cell_type": "code",
   "execution_count": 46,
   "metadata": {},
   "outputs": [
    {
     "data": {
      "text/html": [
       "<div>\n",
       "<style scoped>\n",
       "    .dataframe tbody tr th:only-of-type {\n",
       "        vertical-align: middle;\n",
       "    }\n",
       "\n",
       "    .dataframe tbody tr th {\n",
       "        vertical-align: top;\n",
       "    }\n",
       "\n",
       "    .dataframe thead th {\n",
       "        text-align: right;\n",
       "    }\n",
       "</style>\n",
       "<table border=\"1\" class=\"dataframe\">\n",
       "  <thead>\n",
       "    <tr style=\"text-align: right;\">\n",
       "      <th></th>\n",
       "      <th>PassengerId</th>\n",
       "      <th>Survived</th>\n",
       "      <th>Pclass</th>\n",
       "      <th>Sex</th>\n",
       "      <th>Age</th>\n",
       "      <th>SibSp</th>\n",
       "      <th>Parch</th>\n",
       "      <th>Fare</th>\n",
       "      <th>Embarked</th>\n",
       "      <th>Title</th>\n",
       "      <th>FamilySize</th>\n",
       "    </tr>\n",
       "  </thead>\n",
       "  <tbody>\n",
       "    <tr>\n",
       "      <th>0</th>\n",
       "      <td>1</td>\n",
       "      <td>0</td>\n",
       "      <td>3</td>\n",
       "      <td>0</td>\n",
       "      <td>22.0</td>\n",
       "      <td>1</td>\n",
       "      <td>0</td>\n",
       "      <td>7.2500</td>\n",
       "      <td>1</td>\n",
       "      <td>1</td>\n",
       "      <td>2</td>\n",
       "    </tr>\n",
       "    <tr>\n",
       "      <th>1</th>\n",
       "      <td>2</td>\n",
       "      <td>1</td>\n",
       "      <td>1</td>\n",
       "      <td>1</td>\n",
       "      <td>38.0</td>\n",
       "      <td>1</td>\n",
       "      <td>0</td>\n",
       "      <td>71.2833</td>\n",
       "      <td>2</td>\n",
       "      <td>3</td>\n",
       "      <td>2</td>\n",
       "    </tr>\n",
       "    <tr>\n",
       "      <th>2</th>\n",
       "      <td>3</td>\n",
       "      <td>1</td>\n",
       "      <td>3</td>\n",
       "      <td>1</td>\n",
       "      <td>26.0</td>\n",
       "      <td>0</td>\n",
       "      <td>0</td>\n",
       "      <td>7.9250</td>\n",
       "      <td>1</td>\n",
       "      <td>2</td>\n",
       "      <td>1</td>\n",
       "    </tr>\n",
       "    <tr>\n",
       "      <th>3</th>\n",
       "      <td>4</td>\n",
       "      <td>1</td>\n",
       "      <td>1</td>\n",
       "      <td>1</td>\n",
       "      <td>35.0</td>\n",
       "      <td>1</td>\n",
       "      <td>0</td>\n",
       "      <td>53.1000</td>\n",
       "      <td>1</td>\n",
       "      <td>3</td>\n",
       "      <td>2</td>\n",
       "    </tr>\n",
       "    <tr>\n",
       "      <th>4</th>\n",
       "      <td>5</td>\n",
       "      <td>0</td>\n",
       "      <td>3</td>\n",
       "      <td>0</td>\n",
       "      <td>35.0</td>\n",
       "      <td>0</td>\n",
       "      <td>0</td>\n",
       "      <td>8.0500</td>\n",
       "      <td>1</td>\n",
       "      <td>1</td>\n",
       "      <td>1</td>\n",
       "    </tr>\n",
       "  </tbody>\n",
       "</table>\n",
       "</div>"
      ],
      "text/plain": [
       "   PassengerId  Survived  Pclass  Sex   Age  SibSp  Parch     Fare  Embarked  \\\n",
       "0            1         0       3    0  22.0      1      0   7.2500         1   \n",
       "1            2         1       1    1  38.0      1      0  71.2833         2   \n",
       "2            3         1       3    1  26.0      0      0   7.9250         1   \n",
       "3            4         1       1    1  35.0      1      0  53.1000         1   \n",
       "4            5         0       3    0  35.0      0      0   8.0500         1   \n",
       "\n",
       "   Title  FamilySize  \n",
       "0      1           2  \n",
       "1      3           2  \n",
       "2      2           1  \n",
       "3      3           2  \n",
       "4      1           1  "
      ]
     },
     "execution_count": 46,
     "metadata": {},
     "output_type": "execute_result"
    }
   ],
   "source": [
    "df.head()"
   ]
  },
  {
   "cell_type": "code",
   "execution_count": 47,
   "metadata": {},
   "outputs": [
    {
     "data": {
      "text/html": [
       "<div>\n",
       "<style scoped>\n",
       "    .dataframe tbody tr th:only-of-type {\n",
       "        vertical-align: middle;\n",
       "    }\n",
       "\n",
       "    .dataframe tbody tr th {\n",
       "        vertical-align: top;\n",
       "    }\n",
       "\n",
       "    .dataframe thead th {\n",
       "        text-align: right;\n",
       "    }\n",
       "</style>\n",
       "<table border=\"1\" class=\"dataframe\">\n",
       "  <thead>\n",
       "    <tr style=\"text-align: right;\">\n",
       "      <th></th>\n",
       "      <th>PassengerId</th>\n",
       "      <th>Pclass</th>\n",
       "      <th>Sex</th>\n",
       "      <th>Age</th>\n",
       "      <th>SibSp</th>\n",
       "      <th>Parch</th>\n",
       "      <th>Fare</th>\n",
       "      <th>Embarked</th>\n",
       "      <th>Title</th>\n",
       "      <th>FamilySize</th>\n",
       "    </tr>\n",
       "  </thead>\n",
       "  <tbody>\n",
       "    <tr>\n",
       "      <th>0</th>\n",
       "      <td>892</td>\n",
       "      <td>3</td>\n",
       "      <td>0</td>\n",
       "      <td>34.5</td>\n",
       "      <td>0</td>\n",
       "      <td>0</td>\n",
       "      <td>7.8292</td>\n",
       "      <td>3</td>\n",
       "      <td>1</td>\n",
       "      <td>1</td>\n",
       "    </tr>\n",
       "    <tr>\n",
       "      <th>1</th>\n",
       "      <td>893</td>\n",
       "      <td>3</td>\n",
       "      <td>1</td>\n",
       "      <td>47.0</td>\n",
       "      <td>1</td>\n",
       "      <td>0</td>\n",
       "      <td>7</td>\n",
       "      <td>1</td>\n",
       "      <td>3</td>\n",
       "      <td>2</td>\n",
       "    </tr>\n",
       "    <tr>\n",
       "      <th>2</th>\n",
       "      <td>894</td>\n",
       "      <td>2</td>\n",
       "      <td>0</td>\n",
       "      <td>62.0</td>\n",
       "      <td>0</td>\n",
       "      <td>0</td>\n",
       "      <td>9.6875</td>\n",
       "      <td>3</td>\n",
       "      <td>1</td>\n",
       "      <td>1</td>\n",
       "    </tr>\n",
       "    <tr>\n",
       "      <th>3</th>\n",
       "      <td>895</td>\n",
       "      <td>3</td>\n",
       "      <td>0</td>\n",
       "      <td>27.0</td>\n",
       "      <td>0</td>\n",
       "      <td>0</td>\n",
       "      <td>8.6625</td>\n",
       "      <td>1</td>\n",
       "      <td>1</td>\n",
       "      <td>1</td>\n",
       "    </tr>\n",
       "    <tr>\n",
       "      <th>4</th>\n",
       "      <td>896</td>\n",
       "      <td>3</td>\n",
       "      <td>1</td>\n",
       "      <td>22.0</td>\n",
       "      <td>1</td>\n",
       "      <td>1</td>\n",
       "      <td>12.2875</td>\n",
       "      <td>1</td>\n",
       "      <td>3</td>\n",
       "      <td>3</td>\n",
       "    </tr>\n",
       "  </tbody>\n",
       "</table>\n",
       "</div>"
      ],
      "text/plain": [
       "   PassengerId  Pclass  Sex   Age  SibSp  Parch     Fare  Embarked  Title  \\\n",
       "0          892       3    0  34.5      0      0   7.8292         3      1   \n",
       "1          893       3    1  47.0      1      0        7         1      3   \n",
       "2          894       2    0  62.0      0      0   9.6875         3      1   \n",
       "3          895       3    0  27.0      0      0   8.6625         1      1   \n",
       "4          896       3    1  22.0      1      1  12.2875         1      3   \n",
       "\n",
       "   FamilySize  \n",
       "0           1  \n",
       "1           2  \n",
       "2           1  \n",
       "3           1  \n",
       "4           3  "
      ]
     },
     "execution_count": 47,
     "metadata": {},
     "output_type": "execute_result"
    }
   ],
   "source": [
    "df_test.head()"
   ]
  },
  {
   "cell_type": "code",
   "execution_count": 50,
   "metadata": {
    "collapsed": true,
    "jupyter": {
     "outputs_hidden": true,
     "source_hidden": true
    }
   },
   "outputs": [
    {
     "data": {
      "image/png": "[encoded data removed]",
      "text/plain": [
       "<Figure size 1440x720 with 2 Axes>"
      ]
     },
     "metadata": {
      "needs_background": "light"
     },
     "output_type": "display_data"
    }
   ],
   "source": [
    "import matplotlib.pyplot as plt\n",
    "\n",
    "f,ax=plt.subplots(1,2,figsize=(20,10))\n",
    "\n",
    "df[df['Survived']==0].Age.plot.hist(ax=ax[0],bins=20,edgecolor='black',color='red')\n",
    "\n",
    "ax[0].set_title('Survived= 0')\n",
    "\n",
    "x1=list(range(0,85,5))\n",
    "\n",
    "ax[0].set_xticks(x1)\n",
    "\n",
    "df[df['Survived']==1].Age.plot.hist(ax=ax[1],color='green',bins=20,edgecolor='black')\n",
    "\n",
    "ax[1].set_title('Survived= 1')\n",
    "\n",
    "x2=list(range(0,85,5))\n",
    "\n",
    "ax[1].set_xticks(x2)\n",
    "\n",
    "plt.show()"
   ]
  },
  {
   "cell_type": "markdown",
   "metadata": {},
   "source": [
    "# Modelling"
   ]
  },
  {
   "cell_type": "code",
   "execution_count": 61,
   "metadata": {},
   "outputs": [],
   "source": [
    "y = df['Survived']\n",
    "X = df.drop(['Survived', 'PassengerId', 'SibSp', 'Parch'], axis = 1)"
   ]
  },
  {
   "cell_type": "code",
   "execution_count": 62,
   "metadata": {},
   "outputs": [],
   "source": [
    "X_test = df_test.drop(['PassengerId','SibSp','Parch'], axis = 1)\n",
    "y_test = pd.read_csv('datasets/gender_submission.csv')\n",
    "y_test = y_test.drop('PassengerId', axis = 1)"
   ]
  },
  {
   "cell_type": "markdown",
   "metadata": {},
   "source": [
    "### Random Forest -Classification-"
   ]
  },
  {
   "cell_type": "code",
   "execution_count": 113,
   "metadata": {},
   "outputs": [],
   "source": [
    "from sklearn.ensemble import RandomForestClassifier\n",
    "from sklearn.model_selection import GridSearchCV"
   ]
  },
  {
   "cell_type": "code",
   "execution_count": 114,
   "metadata": {},
   "outputs": [],
   "source": [
    "rfModel = RandomForestClassifier()\n",
    "rfModel = rfModel.fit(X, y)"
   ]
  },
  {
   "cell_type": "code",
   "execution_count": 115,
   "metadata": {},
   "outputs": [
    {
     "data": {
      "text/plain": [
       "{'bootstrap': True,\n",
       " 'ccp_alpha': 0.0,\n",
       " 'class_weight': None,\n",
       " 'criterion': 'gini',\n",
       " 'max_depth': None,\n",
       " 'max_features': 'auto',\n",
       " 'max_leaf_nodes': None,\n",
       " 'max_samples': None,\n",
       " 'min_impurity_decrease': 0.0,\n",
       " 'min_impurity_split': None,\n",
       " 'min_samples_leaf': 1,\n",
       " 'min_samples_split': 2,\n",
       " 'min_weight_fraction_leaf': 0.0,\n",
       " 'n_estimators': 100,\n",
       " 'n_jobs': None,\n",
       " 'oob_score': False,\n",
       " 'random_state': None,\n",
       " 'verbose': 0,\n",
       " 'warm_start': False}"
      ]
     },
     "execution_count": 115,
     "metadata": {},
     "output_type": "execute_result"
    }
   ],
   "source": [
    "rfModel.get_params()"
   ]
  },
  {
   "cell_type": "code",
   "execution_count": 116,
   "metadata": {},
   "outputs": [
    {
     "data": {
      "text/plain": [
       "array([0, 0, 0, 1, 1, 0, 0, 0], dtype=int64)"
      ]
     },
     "execution_count": 116,
     "metadata": {},
     "output_type": "execute_result"
    }
   ],
   "source": [
    "rfModel.predict(X_test)[:8]"
   ]
  },
  {
   "cell_type": "code",
   "execution_count": 117,
   "metadata": {},
   "outputs": [],
   "source": [
    "y_pred = rfModel.predict(X_test)"
   ]
  },
  {
   "cell_type": "code",
   "execution_count": 118,
   "metadata": {},
   "outputs": [
    {
     "data": {
      "text/plain": [
       "0.8205741626794258"
      ]
     },
     "execution_count": 118,
     "metadata": {},
     "output_type": "execute_result"
    }
   ],
   "source": [
    "from sklearn.metrics import accuracy_score\n",
    "accuracy_score(y_test, y_pred)"
   ]
  },
  {
   "cell_type": "code",
   "execution_count": 119,
   "metadata": {},
   "outputs": [
    {
     "data": {
      "text/plain": [
       "array([0, 0, 0, 1, 1, 0, 0, 0, 1, 0], dtype=int64)"
      ]
     },
     "execution_count": 119,
     "metadata": {},
     "output_type": "execute_result"
    }
   ],
   "source": [
    "y_pred[:10]"
   ]
  },
  {
   "cell_type": "markdown",
   "metadata": {},
   "source": [
    "## Model Tuning"
   ]
  },
  {
   "cell_type": "code",
   "execution_count": 97,
   "metadata": {},
   "outputs": [],
   "source": [
    "rf_params = {'max_depth': [2,5,8,10],\n",
    "             'max_features': [2, 5, 8],\n",
    "             'n_estimators': [10, 500, 1000],\n",
    "             'min_samples_split': [2,5,10]\n",
    "            }"
   ]
  },
  {
   "cell_type": "code",
   "execution_count": 98,
   "metadata": {},
   "outputs": [],
   "source": [
    "rf_model = RandomForestClassifier()"
   ]
  },
  {
   "cell_type": "code",
   "execution_count": 100,
   "metadata": {},
   "outputs": [],
   "source": [
    "rf_cv_model = GridSearchCV(rf_model,\n",
    "                     rf_params,\n",
    "                     cv = 10,\n",
    "                     n_jobs = -1,\n",
    "                     verbose = 2)"
   ]
  },
  {
   "cell_type": "code",
   "execution_count": 101,
   "metadata": {
    "collapsed": true,
    "jupyter": {
     "outputs_hidden": true
    }
   },
   "outputs": [
    {
     "name": "stdout",
     "output_type": "stream",
     "text": [
      "Fitting 10 folds for each of 108 candidates, totalling 1080 fits\n"
     ]
    },
    {
     "name": "stderr",
     "output_type": "stream",
     "text": [
      "[Parallel(n_jobs=-1)]: Using backend LokyBackend with 4 concurrent workers.\n",
      "[Parallel(n_jobs=-1)]: Done  33 tasks      | elapsed:   13.6s\n",
      "[Parallel(n_jobs=-1)]: Done 154 tasks      | elapsed:  1.1min\n",
      "[Parallel(n_jobs=-1)]: Done 357 tasks      | elapsed:  2.2min\n",
      "[Parallel(n_jobs=-1)]: Done 640 tasks      | elapsed:  3.8min\n",
      "[Parallel(n_jobs=-1)]: Done 1005 tasks      | elapsed:  6.1min\n",
      "[Parallel(n_jobs=-1)]: Done 1080 out of 1080 | elapsed:  6.3min finished\n"
     ]
    },
    {
     "data": {
      "text/plain": [
       "GridSearchCV(cv=10, estimator=RandomForestClassifier(), n_jobs=-1,\n",
       "             param_grid={'max_depth': [2, 5, 8, 10], 'max_features': [2, 5, 8],\n",
       "                         'min_samples_split': [2, 5, 10],\n",
       "                         'n_estimators': [10, 500, 1000]},\n",
       "             verbose=2)"
      ]
     },
     "execution_count": 101,
     "metadata": {},
     "output_type": "execute_result"
    }
   ],
   "source": [
    "rf_cv_model.fit(X, y)"
   ]
  },
  {
   "cell_type": "code",
   "execution_count": 102,
   "metadata": {},
   "outputs": [
    {
     "data": {
      "text/plain": [
       "{'max_depth': 10,\n",
       " 'max_features': 5,\n",
       " 'min_samples_split': 10,\n",
       " 'n_estimators': 1000}"
      ]
     },
     "execution_count": 102,
     "metadata": {},
     "output_type": "execute_result"
    }
   ],
   "source": [
    "rf_cv_model.best_params_"
   ]
  },
  {
   "cell_type": "code",
   "execution_count": 103,
   "metadata": {},
   "outputs": [],
   "source": [
    "best_parameters = {\n",
    "    'max_depth': 10,\n",
    "    'max_features': 5,\n",
    "    'min_samples_split': 10,\n",
    "    'n_estimators': 1000\n",
    "}"
   ]
  },
  {
   "cell_type": "code",
   "execution_count": 121,
   "metadata": {},
   "outputs": [],
   "source": [
    "rf_tuned = RandomForestClassifier(max_depth = 10,\n",
    "                                  max_features = 5,\n",
    "                                  min_samples_split = 10,\n",
    "                                  n_estimators = 1000)"
   ]
  },
  {
   "cell_type": "code",
   "execution_count": 122,
   "metadata": {},
   "outputs": [
    {
     "data": {
      "text/plain": [
       "RandomForestClassifier(max_depth=10, max_features=5, min_samples_split=10,\n",
       "                       n_estimators=1000)"
      ]
     },
     "execution_count": 122,
     "metadata": {},
     "output_type": "execute_result"
    }
   ],
   "source": [
    "rf_tuned.fit(X,y)"
   ]
  },
  {
   "cell_type": "code",
   "execution_count": 126,
   "metadata": {},
   "outputs": [],
   "source": [
    "y_pred = rf_tuned.predict(X_test)"
   ]
  },
  {
   "cell_type": "code",
   "execution_count": 130,
   "metadata": {},
   "outputs": [
    {
     "data": {
      "text/plain": [
       "0.868421052631579"
      ]
     },
     "execution_count": 130,
     "metadata": {},
     "output_type": "execute_result"
    }
   ],
   "source": [
    "accuracy_score(y_test, y_pred)"
   ]
  },
  {
   "cell_type": "markdown",
   "metadata": {},
   "source": [
    "## Decision Tree"
   ]
  },
  {
   "cell_type": "code",
   "execution_count": 132,
   "metadata": {},
   "outputs": [],
   "source": [
    "from sklearn.tree import DecisionTreeClassifier"
   ]
  },
  {
   "cell_type": "code",
   "execution_count": 133,
   "metadata": {},
   "outputs": [],
   "source": [
    "dtModel = DecisionTreeClassifier()"
   ]
  },
  {
   "cell_type": "code",
   "execution_count": 134,
   "metadata": {},
   "outputs": [
    {
     "data": {
      "text/plain": [
       "DecisionTreeClassifier()"
      ]
     },
     "execution_count": 134,
     "metadata": {},
     "output_type": "execute_result"
    }
   ],
   "source": [
    "dtModel.fit(X, y)"
   ]
  },
  {
   "cell_type": "code",
   "execution_count": 136,
   "metadata": {},
   "outputs": [],
   "source": [
    "y_pred = dtModel.predict(X_test)"
   ]
  },
  {
   "cell_type": "code",
   "execution_count": 137,
   "metadata": {},
   "outputs": [
    {
     "data": {
      "text/plain": [
       "0.8038277511961722"
      ]
     },
     "execution_count": 137,
     "metadata": {},
     "output_type": "execute_result"
    }
   ],
   "source": [
    "accuracy_score(y_test, y_pred)"
   ]
  },
  {
   "cell_type": "markdown",
   "metadata": {},
   "source": [
    "## Model Tuning"
   ]
  },
  {
   "cell_type": "code",
   "execution_count": 142,
   "metadata": {},
   "outputs": [],
   "source": [
    "dt_model = DecisionTreeClassifier()"
   ]
  },
  {
   "cell_type": "code",
   "execution_count": 161,
   "metadata": {},
   "outputs": [],
   "source": [
    "dt_params = {'criterion': ['gini', 'entropy'],\n",
    "             'max_depth': list(range(2,11,2)),\n",
    "             'min_samples_split': list(range(1,10,2)),\n",
    "             'min_samples_leaf': list(range(1,10))\n",
    "            }"
   ]
  },
  {
   "cell_type": "code",
   "execution_count": 162,
   "metadata": {},
   "outputs": [
    {
     "name": "stdout",
     "output_type": "stream",
     "text": [
      "Fitting 10 folds for each of 450 candidates, totalling 4500 fits\n"
     ]
    },
    {
     "name": "stderr",
     "output_type": "stream",
     "text": [
      "[Parallel(n_jobs=-1)]: Using backend LokyBackend with 4 concurrent workers.\n",
      "[Parallel(n_jobs=-1)]: Done 136 tasks      | elapsed:    0.5s\n",
      "[Parallel(n_jobs=-1)]: Done 2072 tasks      | elapsed:    5.2s\n",
      "[Parallel(n_jobs=-1)]: Done 4500 out of 4500 | elapsed:   10.7s finished\n"
     ]
    },
    {
     "data": {
      "text/plain": [
       "GridSearchCV(cv=10, estimator=DecisionTreeClassifier(), n_jobs=-1,\n",
       "             param_grid={'criterion': ['gini', 'entropy'],\n",
       "                         'max_depth': [2, 4, 6, 8, 10],\n",
       "                         'min_samples_leaf': [1, 2, 3, 4, 5, 6, 7, 8, 9],\n",
       "                         'min_samples_split': [1, 3, 5, 7, 9]},\n",
       "             verbose=2)"
      ]
     },
     "execution_count": 162,
     "metadata": {},
     "output_type": "execute_result"
    }
   ],
   "source": [
    "dt_cv_model = GridSearchCV(dt_model,\n",
    "                           dt_params,\n",
    "                           cv = 10,\n",
    "                           n_jobs = -1,\n",
    "                           verbose = 2)\n",
    "dt_cv_model.fit(X, y)"
   ]
  },
  {
   "cell_type": "code",
   "execution_count": 163,
   "metadata": {},
   "outputs": [
    {
     "data": {
      "text/plain": [
       "{'criterion': 'gini',\n",
       " 'max_depth': 4,\n",
       " 'min_samples_leaf': 1,\n",
       " 'min_samples_split': 3}"
      ]
     },
     "execution_count": 163,
     "metadata": {},
     "output_type": "execute_result"
    }
   ],
   "source": [
    "dt_cv_model.best_params_"
   ]
  },
  {
   "cell_type": "code",
   "execution_count": 164,
   "metadata": {},
   "outputs": [
    {
     "data": {
      "text/plain": [
       "DecisionTreeClassifier(max_depth=4, min_samples_split=3)"
      ]
     },
     "execution_count": 164,
     "metadata": {},
     "output_type": "execute_result"
    }
   ],
   "source": [
    "dt_tuned = DecisionTreeClassifier(max_depth = 4,\n",
    "                                  min_samples_leaf = 1,\n",
    "                                  min_samples_split = 3)\n",
    "dt_tuned.fit(X, y)"
   ]
  },
  {
   "cell_type": "code",
   "execution_count": 165,
   "metadata": {},
   "outputs": [],
   "source": [
    "y_pred = dt_tuned.predict(X_test)"
   ]
  },
  {
   "cell_type": "code",
   "execution_count": 166,
   "metadata": {},
   "outputs": [
    {
     "data": {
      "text/plain": [
       "0.9282296650717703"
      ]
     },
     "execution_count": 166,
     "metadata": {},
     "output_type": "execute_result"
    }
   ],
   "source": [
    "accuracy_score(y_test, y_pred)"
   ]
  },
  {
   "cell_type": "markdown",
   "metadata": {},
   "source": [
    "## AdaBoost -Classification-"
   ]
  },
  {
   "cell_type": "code",
   "execution_count": 167,
   "metadata": {},
   "outputs": [],
   "source": [
    "from sklearn.ensemble import AdaBoostClassifier"
   ]
  },
  {
   "cell_type": "code",
   "execution_count": 168,
   "metadata": {},
   "outputs": [],
   "source": [
    "abModel = AdaBoostClassifier()"
   ]
  },
  {
   "cell_type": "code",
   "execution_count": 169,
   "metadata": {},
   "outputs": [
    {
     "data": {
      "text/plain": [
       "AdaBoostClassifier()"
      ]
     },
     "execution_count": 169,
     "metadata": {},
     "output_type": "execute_result"
    }
   ],
   "source": [
    "abModel.fit(X, y)"
   ]
  },
  {
   "cell_type": "code",
   "execution_count": 171,
   "metadata": {},
   "outputs": [
    {
     "data": {
      "text/plain": [
       "0.9066985645933014"
      ]
     },
     "execution_count": 171,
     "metadata": {},
     "output_type": "execute_result"
    }
   ],
   "source": [
    "y_pred = abModel.predict(X_test)\n",
    "accuracy_score(y_test, y_pred)"
   ]
  },
  {
   "cell_type": "markdown",
   "metadata": {},
   "source": [
    "### Model Tuning"
   ]
  },
  {
   "cell_type": "code",
   "execution_count": 173,
   "metadata": {},
   "outputs": [],
   "source": [
    "ab_model = AdaBoostClassifier()"
   ]
  },
  {
   "cell_type": "code",
   "execution_count": 180,
   "metadata": {},
   "outputs": [
    {
     "data": {
      "text/plain": [
       "{'algorithm': 'SAMME.R',\n",
       " 'base_estimator': None,\n",
       " 'learning_rate': 1.0,\n",
       " 'n_estimators': 50,\n",
       " 'random_state': None}"
      ]
     },
     "execution_count": 180,
     "metadata": {},
     "output_type": "execute_result"
    }
   ],
   "source": [
    "ab_model.get_params()"
   ]
  },
  {
   "cell_type": "code",
   "execution_count": 174,
   "metadata": {},
   "outputs": [],
   "source": [
    "ab_params = {\n",
    "    'n_estimators': [100, 200, 300],\n",
    "    'learning_rate': [0.001, 0.01, 0.1, 0.2, 0.5]\n",
    "}"
   ]
  },
  {
   "cell_type": "code",
   "execution_count": 175,
   "metadata": {},
   "outputs": [
    {
     "name": "stdout",
     "output_type": "stream",
     "text": [
      "Fitting 10 folds for each of 15 candidates, totalling 150 fits\n"
     ]
    },
    {
     "name": "stderr",
     "output_type": "stream",
     "text": [
      "[Parallel(n_jobs=-1)]: Using backend LokyBackend with 4 concurrent workers.\n",
      "[Parallel(n_jobs=-1)]: Done  33 tasks      | elapsed:   10.8s\n",
      "[Parallel(n_jobs=-1)]: Done 150 out of 150 | elapsed:   31.6s finished\n"
     ]
    },
    {
     "data": {
      "text/plain": [
       "GridSearchCV(cv=10, estimator=AdaBoostClassifier(), n_jobs=-1,\n",
       "             param_grid={'learning_rate': [0.001, 0.01, 0.1, 0.2, 0.5],\n",
       "                         'n_estimators': [100, 200, 300]},\n",
       "             verbose=2)"
      ]
     },
     "execution_count": 175,
     "metadata": {},
     "output_type": "execute_result"
    }
   ],
   "source": [
    "ab_cv_model = GridSearchCV(ab_model,\n",
    "                           ab_params,\n",
    "                           cv = 10,\n",
    "                           n_jobs = -1,\n",
    "                           verbose = 2)\n",
    "ab_cv_model.fit(X, y)"
   ]
  },
  {
   "cell_type": "code",
   "execution_count": 176,
   "metadata": {},
   "outputs": [
    {
     "data": {
      "text/plain": [
       "{'learning_rate': 0.1, 'n_estimators': 200}"
      ]
     },
     "execution_count": 176,
     "metadata": {},
     "output_type": "execute_result"
    }
   ],
   "source": [
    "ab_cv_model.best_params_"
   ]
  },
  {
   "cell_type": "code",
   "execution_count": 178,
   "metadata": {},
   "outputs": [
    {
     "data": {
      "text/plain": [
       "AdaBoostClassifier(learning_rate=0.1, n_estimators=200)"
      ]
     },
     "execution_count": 178,
     "metadata": {},
     "output_type": "execute_result"
    }
   ],
   "source": [
    "ab_tuned = AdaBoostClassifier(learning_rate = 0.1,\n",
    "                              n_estimators = 200)\n",
    "ab_tuned.fit(X, y)"
   ]
  },
  {
   "cell_type": "code",
   "execution_count": 179,
   "metadata": {},
   "outputs": [
    {
     "data": {
      "text/plain": [
       "0.9330143540669856"
      ]
     },
     "execution_count": 179,
     "metadata": {},
     "output_type": "execute_result"
    }
   ],
   "source": [
    "y_pred = ab_tuned.predict(X_test)\n",
    "accuracy_score(y_test, y_pred)"
   ]
  },
  {
   "cell_type": "markdown",
   "metadata": {},
   "source": [
    "## MLP"
   ]
  },
  {
   "cell_type": "code",
   "execution_count": 182,
   "metadata": {},
   "outputs": [],
   "source": [
    "from sklearn.preprocessing import StandardScaler"
   ]
  },
  {
   "cell_type": "code",
   "execution_count": 183,
   "metadata": {},
   "outputs": [],
   "source": [
    "scaler = StandardScaler()"
   ]
  },
  {
   "cell_type": "code",
   "execution_count": 186,
   "metadata": {},
   "outputs": [],
   "source": [
    "scaler.fit(X)\n",
    "X_scaled = scaler.transform(X)\n",
    "X_test_scaled = scaler.transform(X_test)"
   ]
  },
  {
   "cell_type": "code",
   "execution_count": 187,
   "metadata": {},
   "outputs": [
    {
     "data": {
      "text/plain": [
       "array([[ 0.82737724, -0.73769513, -0.58254075, ..., -0.56883712,\n",
       "        -0.70446995,  0.05915988],\n",
       "       [-1.56610693,  1.35557354,  0.62433264, ...,  1.00518113,\n",
       "         1.19759892,  0.05915988],\n",
       "       [ 0.82737724,  1.35557354, -0.28082241, ..., -0.56883712,\n",
       "         0.24656448, -0.56097483],\n",
       "       ...,\n",
       "       [ 0.82737724,  1.35557354, -0.58254075, ..., -0.56883712,\n",
       "         0.24656448,  1.29942929],\n",
       "       [-1.56610693, -0.73769513, -0.28082241, ...,  1.00518113,\n",
       "        -0.70446995, -0.56097483],\n",
       "       [ 0.82737724, -0.73769513,  0.17175512, ...,  2.57919938,\n",
       "        -0.70446995, -0.56097483]])"
      ]
     },
     "execution_count": 187,
     "metadata": {},
     "output_type": "execute_result"
    }
   ],
   "source": [
    "X_scaled"
   ]
  },
  {
   "cell_type": "code",
   "execution_count": 188,
   "metadata": {},
   "outputs": [],
   "source": [
    "from sklearn.neural_network import MLPClassifier"
   ]
  },
  {
   "cell_type": "code",
   "execution_count": 193,
   "metadata": {},
   "outputs": [],
   "source": [
    "mlpcModel = MLPClassifier().fit(X, y)"
   ]
  },
  {
   "cell_type": "code",
   "execution_count": 194,
   "metadata": {
    "collapsed": true,
    "jupyter": {
     "outputs_hidden": true
    }
   },
   "outputs": [
    {
     "data": {
      "text/plain": [
       "[array([[ 2.88432718e-01,  2.43291452e-07,  1.33245308e-01,\n",
       "          2.06478212e-01, -2.52678096e-01,  2.79933667e-01,\n",
       "         -1.33323632e-01,  6.96419578e-02,  6.93834015e-02,\n",
       "          4.72850207e-03, -8.39860789e-03, -9.59595764e-02,\n",
       "         -5.25816609e-02,  1.60768599e-01, -6.39473075e-02,\n",
       "         -1.03712460e-01, -1.27317738e-01,  1.58946741e-02,\n",
       "          1.66644440e-04,  3.96967836e-02,  1.88703268e-02,\n",
       "         -2.37066280e-01, -8.12525699e-02, -8.09488713e-02,\n",
       "          3.03508525e-02,  2.33312412e-02, -5.84526039e-02,\n",
       "         -1.97866207e-01, -1.17725743e-02,  6.40222908e-02,\n",
       "         -3.83041102e-06, -1.58308643e-01,  1.10783067e-01,\n",
       "         -3.98174587e-02, -2.22086276e-01,  1.11866790e-01,\n",
       "          2.59082928e-02, -2.82950194e-01, -2.56959418e-01,\n",
       "         -2.46581995e-01,  4.09149405e-02, -1.51032680e-02,\n",
       "          3.01098010e-10, -2.71725929e-01,  7.52555150e-02,\n",
       "         -1.12136930e-01,  5.95537129e-02,  4.63890397e-02,\n",
       "          1.47953915e-01, -1.02631818e-01,  2.20913121e-01,\n",
       "         -1.46635885e-01,  1.63710022e-01,  4.27843299e-03,\n",
       "         -1.57242818e-11, -2.06453769e-02, -3.72667127e-02,\n",
       "         -2.85050053e-01, -4.28394314e-02, -1.07268010e-02,\n",
       "         -1.87300161e-01,  2.15846370e-01, -2.65630319e-02,\n",
       "         -1.48124648e-01,  2.15494254e-01,  2.60607867e-01,\n",
       "          2.21771200e-01, -1.72265669e-02,  8.75064352e-03,\n",
       "         -1.65586531e-02,  3.07870342e-01, -5.44559310e-06,\n",
       "          2.40538127e-01, -1.11154514e-02, -8.97491450e-02,\n",
       "          7.62783312e-02, -8.54959130e-02, -3.09012136e-02,\n",
       "         -2.50555418e-02,  1.06572868e-01, -3.29613807e-03,\n",
       "          2.08323696e-01, -9.18605152e-02,  6.72905502e-02,\n",
       "         -1.51492895e-01, -7.67815318e-02,  6.91427060e-02,\n",
       "          8.28668481e-02, -9.28004616e-02,  6.92437139e-02,\n",
       "          1.95997267e-01,  5.36224235e-02, -1.56113997e-01,\n",
       "          1.82953870e-01, -3.20374841e-01,  2.46904369e-01,\n",
       "         -7.87431686e-02, -7.57371255e-02, -2.90186005e-03,\n",
       "         -1.10851058e-01],\n",
       "        [-2.94429657e-01, -7.16375785e-06,  3.76151535e-02,\n",
       "         -4.54809698e-01,  1.80392025e-01,  1.02650491e-01,\n",
       "          3.52203666e-01, -1.98029907e-02, -1.83569870e-01,\n",
       "          2.14541739e-02, -6.21145699e-01, -3.22849359e-01,\n",
       "         -1.56962213e-02,  5.49561266e-01,  3.53171880e-01,\n",
       "          2.07183842e-01, -2.78328228e-01, -4.70815296e-01,\n",
       "         -2.70082497e-03,  3.58994912e-01,  3.35181503e-01,\n",
       "          3.79656346e-01, -4.18049990e-02,  4.30577486e-01,\n",
       "          4.51109141e-02, -1.19804676e-01,  1.61494071e-01,\n",
       "          7.77322482e-02, -4.44093121e-01, -7.85479650e-02,\n",
       "          1.49257809e-03,  7.54991872e-02, -1.11398447e-02,\n",
       "          4.26074728e-01,  2.42001067e-01, -1.63410241e-01,\n",
       "         -1.97482173e-01, -4.11946863e-01, -1.80383142e-01,\n",
       "          4.67384204e-01, -2.15377788e-01,  3.38813042e-03,\n",
       "         -3.08506124e-04,  3.84344729e-01, -3.65135539e-01,\n",
       "          1.44990190e-01, -2.96295961e-02,  3.42444826e-01,\n",
       "         -9.15824644e-02, -3.72948516e-01, -4.34285419e-01,\n",
       "          1.43985262e-01, -1.46515605e-01, -3.33382732e-01,\n",
       "         -1.03862970e-02, -1.50860465e-02,  3.77854725e-01,\n",
       "          2.63196775e-01, -7.37039452e-03, -3.83812387e-05,\n",
       "          4.16315669e-01, -1.46792902e-01,  1.23579949e-01,\n",
       "         -1.52106890e-01, -1.10527025e-01,  1.48279423e-02,\n",
       "         -1.17261753e-01, -1.62736144e-02,  2.50159421e-01,\n",
       "          3.68242288e-01, -1.96591866e-01, -7.52944345e-05,\n",
       "          1.38929989e-01, -1.63049529e-02,  2.91948448e-01,\n",
       "         -4.10227195e-01,  2.51786736e-02, -8.12350402e-02,\n",
       "         -5.82103411e-01,  3.77513687e-01, -8.60531232e-04,\n",
       "         -2.01249826e-01,  7.71563159e-02,  2.34234222e-01,\n",
       "         -4.25153936e-01,  2.56390516e-01,  3.46325665e-01,\n",
       "         -1.52480553e-01,  4.39781765e-01, -4.29694533e-01,\n",
       "         -8.82057066e-02, -1.11445680e-01,  3.07708605e-01,\n",
       "          2.40439053e-04, -4.52560326e-01, -1.65177480e-01,\n",
       "         -2.49212411e-01,  2.01050996e-01,  6.26487612e-05,\n",
       "          1.79072079e-01],\n",
       "        [ 1.95908767e-01, -1.99904910e-12,  1.57170789e-01,\n",
       "          2.31280087e-01,  1.81756466e-01, -3.92227587e-02,\n",
       "          1.90046522e-02,  7.35609134e-02, -7.61901255e-02,\n",
       "         -4.57765903e-02, -1.07274504e-01,  4.22639317e-02,\n",
       "         -1.60245628e-02, -4.77203826e-02, -2.99451154e-02,\n",
       "          5.58449577e-02,  1.21622078e-01, -1.30481570e-01,\n",
       "         -2.23043563e-07,  2.35230368e-01, -1.47361736e-02,\n",
       "          6.88580979e-02,  1.54237113e-01, -9.75886351e-02,\n",
       "          6.13320605e-02, -1.85325425e-01, -4.60144948e-02,\n",
       "         -1.84879944e-02,  1.79279013e-01, -5.22026816e-02,\n",
       "         -3.03993616e-05, -2.62975585e-01,  1.94483384e-01,\n",
       "          1.41599404e-01, -4.12346817e-02,  1.61785362e-01,\n",
       "         -6.01616169e-02, -1.90677799e-02,  3.76109764e-02,\n",
       "          1.99360731e-02,  9.25458036e-02, -1.03137867e-03,\n",
       "         -7.51123676e-03,  1.52405011e-01,  1.49663733e-01,\n",
       "          2.24643969e-01,  5.73685699e-03,  8.33442603e-03,\n",
       "          1.54468615e-01, -1.06001297e-02,  9.18333502e-02,\n",
       "         -5.69476246e-02, -8.50801629e-02,  1.80934213e-02,\n",
       "         -1.34889517e-02, -1.72359778e-02,  1.34500908e-01,\n",
       "          1.36361649e-01,  1.06489946e-01, -2.58267420e-03,\n",
       "          1.02679959e-01, -2.38285426e-01,  4.39449533e-02,\n",
       "          1.37711440e-01,  1.16038936e-01, -1.27971057e-02,\n",
       "          1.60165420e-01, -2.06822470e-02,  2.10432871e-01,\n",
       "         -8.92283271e-02,  4.71477912e-02, -7.72199205e-07,\n",
       "         -6.27409301e-02, -7.61148183e-03,  2.40426771e-01,\n",
       "          2.08383732e-01, -1.84823376e-02,  1.06311372e-01,\n",
       "          1.90308233e-02,  1.50011363e-01, -6.86161155e-03,\n",
       "          1.32307919e-01,  1.52678651e-01,  1.72054475e-01,\n",
       "          1.45066712e-01, -2.99158521e-02, -1.46774413e-01,\n",
       "          2.05090768e-01,  5.32474350e-02,  1.40223150e-01,\n",
       "          7.34817990e-02, -2.64334366e-02,  1.07168472e-01,\n",
       "         -1.83874539e-01,  2.38188932e-03,  4.50279839e-02,\n",
       "          2.16182541e-01,  2.23625139e-01, -2.48625130e-03,\n",
       "         -6.30897567e-02],\n",
       "        [-1.71903958e-01, -9.90022287e-04, -2.00549065e-01,\n",
       "         -1.61509118e-01, -2.40972662e-02, -9.67291858e-02,\n",
       "          1.17189317e-01, -1.98078774e-01, -5.43729124e-02,\n",
       "          3.32859032e-04,  6.09664546e-02, -2.47363497e-01,\n",
       "         -6.29320740e-03,  2.86734199e-02,  3.33522284e-02,\n",
       "          4.17274901e-03, -9.03188546e-02,  7.42253952e-02,\n",
       "         -1.28355198e-02, -1.13964682e-01,  1.84588268e-01,\n",
       "         -7.36391247e-03, -4.40143705e-02,  1.16025686e-01,\n",
       "          1.42920729e-01,  2.21840203e-01,  6.52464598e-02,\n",
       "         -8.88831443e-03,  1.94383353e-01,  4.23636928e-02,\n",
       "         -3.68778273e-05,  3.96197277e-02, -3.80886353e-02,\n",
       "          9.02798909e-02,  1.56494129e-01,  3.96515131e-02,\n",
       "          1.28410949e-03,  3.41483216e-02, -2.02489828e-01,\n",
       "          7.74251254e-02, -1.19999806e-01, -6.50756340e-04,\n",
       "         -8.02848146e-05,  1.23745702e-01,  1.80823656e-01,\n",
       "         -2.37327655e-01, -2.37166185e-02,  9.14165494e-02,\n",
       "          1.34656546e-01,  1.95828615e-01,  1.67193298e-02,\n",
       "          1.29847539e-01,  2.05125091e-01,  1.64016696e-01,\n",
       "         -1.28572249e-02, -4.37227312e-02,  2.25251672e-01,\n",
       "         -1.24377910e-01,  3.80886610e-02, -6.00009603e-04,\n",
       "         -1.02496681e-01,  5.23951364e-03, -2.44397192e-01,\n",
       "         -1.81442099e-01,  1.85202597e-01,  1.25655070e-02,\n",
       "          7.88875364e-02, -1.77475797e-02, -1.13202005e-01,\n",
       "          1.27123314e-02, -3.91723875e-02, -5.94602438e-05,\n",
       "         -5.90096263e-02, -1.57511376e-02,  5.33717510e-02,\n",
       "         -1.58685461e-01, -1.54838169e-02,  1.19763601e-01,\n",
       "          3.72372081e-02,  2.09289335e-01, -2.03015325e-03,\n",
       "         -5.53661225e-02,  7.82246326e-02,  1.68275464e-01,\n",
       "          1.76036773e-01,  7.09324842e-02,  1.54640501e-01,\n",
       "         -1.51225520e-01, -6.77061566e-03, -1.16096175e-02,\n",
       "         -2.16855943e-01,  1.31655551e-01, -4.89132723e-02,\n",
       "         -1.29341100e-01,  2.76124549e-02, -1.39478624e-01,\n",
       "          1.64657663e-01, -3.83338836e-02, -1.93103427e-04,\n",
       "          1.98848081e-01],\n",
       "        [-2.36019892e-02,  1.27426822e-02,  2.28381031e-01,\n",
       "         -1.26199183e-01, -1.31098733e-01,  2.39458517e-01,\n",
       "         -7.72650766e-02,  1.05999959e-01, -2.17617645e-01,\n",
       "          7.86651650e-02, -2.31991642e-01,  6.97082462e-02,\n",
       "         -1.62045040e-02,  1.39089608e-01,  2.36195574e-01,\n",
       "          1.73544783e-01,  4.94593439e-02,  1.46206511e-01,\n",
       "         -1.56230461e-03,  7.87305541e-02,  2.75002130e-01,\n",
       "         -1.43926009e-01, -2.45548324e-01,  4.44008552e-02,\n",
       "         -1.72472171e-01, -4.58145625e-02,  5.76700373e-02,\n",
       "          6.75285364e-03, -2.34310691e-01, -2.21442840e-02,\n",
       "         -1.47044280e-06,  8.34061723e-03, -1.42285985e-01,\n",
       "         -1.60510931e-01, -1.32798613e-02, -1.32885093e-01,\n",
       "          4.29968626e-02,  1.68725344e-01, -1.25714387e-01,\n",
       "          9.53209975e-02, -2.05470811e-02, -1.05045700e-06,\n",
       "          9.82915391e-03, -5.64005990e-02, -2.23981084e-01,\n",
       "         -1.32775287e-01,  8.40045086e-03, -1.38447312e-01,\n",
       "         -2.32452539e-01, -2.29964133e-01, -2.18219610e-01,\n",
       "         -5.70074077e-02,  1.58292880e-02, -1.31750256e-02,\n",
       "          5.76585095e-04, -1.89849893e-02,  1.00559657e-01,\n",
       "          1.65917754e-01, -3.72642144e-04, -1.22077590e-02,\n",
       "         -1.17608685e-01,  8.30609569e-03,  1.94708387e-01,\n",
       "          6.24768327e-02, -7.21913195e-02,  1.50135896e-01,\n",
       "          7.20976777e-02, -1.18649176e-02, -4.97899566e-02,\n",
       "          1.21097427e-01,  1.74820805e-02, -1.33799799e-03,\n",
       "          5.77449894e-02, -1.02514971e-02,  1.83996954e-01,\n",
       "         -2.05485828e-01, -2.52270963e-02,  6.78295684e-02,\n",
       "          1.27777492e-01, -1.94055325e-01, -2.43319850e-04,\n",
       "          7.63320467e-02, -8.93881097e-02, -1.69413658e-01,\n",
       "         -4.49670147e-02, -1.52329855e-01,  3.24865433e-01,\n",
       "         -2.03888422e-01, -6.85986723e-02, -1.06324648e-02,\n",
       "         -2.31998919e-01,  6.91406684e-02,  1.68701624e-01,\n",
       "          5.62915023e-02, -2.51477072e-01,  1.75974499e-01,\n",
       "          1.38874694e-01,  1.64674416e-01,  2.02083433e-07,\n",
       "          1.10982307e-02],\n",
       "        [-4.19869785e-02,  3.69542420e-11, -9.43542787e-02,\n",
       "          1.77977754e-02,  1.51865854e-01,  2.51997191e-01,\n",
       "          2.15575640e-01, -1.40448902e-02, -3.88949654e-02,\n",
       "          1.43332650e-01, -3.67345674e-01,  2.55597310e-02,\n",
       "         -2.27032445e-02,  3.54702077e-01,  2.13843854e-02,\n",
       "         -5.62771802e-02, -1.95929615e-01, -1.99093032e-01,\n",
       "         -9.92127122e-03, -1.75433253e-01,  6.79191097e-02,\n",
       "          1.60174095e-01, -1.93907806e-01,  8.86373658e-02,\n",
       "          2.90256268e-01, -2.37062695e-01,  2.19286010e-01,\n",
       "          1.62815475e-01,  9.11862739e-02, -2.73380513e-01,\n",
       "         -3.16150963e-07,  2.22229142e-01, -1.26980910e-01,\n",
       "          1.44266364e-01,  2.41397403e-02, -7.47227290e-02,\n",
       "         -1.27894408e-01, -1.91789238e-02,  1.46963375e-01,\n",
       "          2.63603159e-01,  2.24181674e-01,  1.53776828e-11,\n",
       "          1.75634302e-05,  3.04225405e-01, -2.38666113e-01,\n",
       "          2.11065063e-01,  5.94266180e-02, -1.22576357e-01,\n",
       "          1.54169558e-02,  1.61744683e-02, -9.07062227e-02,\n",
       "         -1.01786435e-01,  5.18636193e-02, -2.23376275e-01,\n",
       "         -2.18327147e-05, -6.14716455e-02, -1.06081939e-01,\n",
       "          2.18210330e-02, -2.19712983e-02, -1.10205618e-04,\n",
       "         -1.16641788e-01, -1.77094390e-01,  1.89229929e-01,\n",
       "         -2.57017518e-01,  1.36317795e-01,  8.28849914e-02,\n",
       "         -6.70853443e-02, -1.71157508e-02,  1.89482697e-01,\n",
       "         -1.09089947e-01,  5.64921373e-03, -3.91158284e-04,\n",
       "          3.45047311e-01, -1.26630278e-02,  2.47180187e-01,\n",
       "          2.17777604e-01, -1.44317515e-02,  8.19382279e-02,\n",
       "         -3.14618280e-01,  3.66540823e-02, -1.12835650e-03,\n",
       "          1.39651253e-01,  7.07250120e-02,  4.75765990e-02,\n",
       "          5.93358198e-02, -5.50534029e-03,  1.69614584e-01,\n",
       "          3.53966257e-02,  2.73526447e-01,  1.82145732e-01,\n",
       "         -1.78805979e-01,  8.59807142e-02,  5.44295122e-02,\n",
       "          1.29164975e-02, -1.72731303e-01, -1.13090170e-01,\n",
       "         -2.79763409e-01,  2.45152232e-01, -6.13869723e-06,\n",
       "          2.00047098e-01],\n",
       "        [-2.74419247e-01, -1.44179710e-03, -8.69677052e-03,\n",
       "         -2.57994347e-01, -7.42297445e-02,  6.80950747e-02,\n",
       "         -3.35282860e-02, -2.99047201e-02,  2.25980438e-01,\n",
       "         -3.64808487e-03,  3.06979701e-01, -6.71401432e-02,\n",
       "         -5.94803339e-03, -1.01405634e-01,  1.79712311e-01,\n",
       "         -1.61706042e-01, -1.13661244e-01,  2.39512714e-01,\n",
       "         -4.19593912e-03,  1.52725461e-01, -1.97674771e-01,\n",
       "          1.68753695e-01, -1.04227649e-01, -2.47022990e-01,\n",
       "         -7.36217746e-02,  1.01843962e-01,  1.53028349e-01,\n",
       "          1.52989301e-01, -3.31106631e-03,  2.29187126e-01,\n",
       "         -3.37402120e-10, -1.53538297e-01,  5.69407674e-02,\n",
       "         -2.14663129e-01,  7.20468286e-02,  9.28114256e-02,\n",
       "          2.79443337e-01, -2.70687422e-01, -3.66715441e-02,\n",
       "         -8.09881601e-02, -5.32154260e-02,  8.94771702e-05,\n",
       "          3.56016080e-03, -3.01704000e-02,  4.65806539e-02,\n",
       "          1.33169915e-01, -5.25762558e-02, -2.52714438e-01,\n",
       "          1.36054013e-01,  1.28507525e-01,  1.75291773e-01,\n",
       "         -3.14303986e-01,  2.38428982e-01,  1.41958759e-01,\n",
       "          6.44824459e-05, -2.00748358e-02,  9.97891326e-02,\n",
       "         -1.44233562e-01,  1.77342534e-01, -2.74045237e-03,\n",
       "         -3.80594791e-03, -1.57867445e-01,  1.22520553e-01,\n",
       "          1.06465741e-01,  1.99018622e-01,  1.89060185e-01,\n",
       "          2.25865490e-01, -3.18248949e-02,  6.90728133e-02,\n",
       "          7.04191069e-02, -4.25634222e-02,  1.31052364e-08,\n",
       "          1.57952849e-02, -2.22344157e-02, -5.57103632e-02,\n",
       "          6.58229076e-02, -1.10305523e-02, -1.26870980e-01,\n",
       "         -7.54466633e-02, -9.86705426e-02,  6.21285698e-03,\n",
       "          2.11053303e-01, -2.06301670e-01,  3.65782149e-02,\n",
       "          9.69246436e-02, -2.16599482e-01,  8.43910106e-02,\n",
       "          2.92359581e-03, -1.13327676e-01,  9.72854218e-02,\n",
       "         -5.34622140e-02, -1.33667827e-01, -1.00011998e-01,\n",
       "          9.85766915e-02, -9.01457046e-02,  6.92192149e-02,\n",
       "          7.93493647e-02, -1.07879997e-01,  1.20229865e-11,\n",
       "         -1.75422544e-02]]),\n",
       " array([[-2.26985589e-01],\n",
       "        [ 1.15917340e-03],\n",
       "        [ 4.91962182e-02],\n",
       "        [-1.09519497e-01],\n",
       "        [ 1.27303700e-01],\n",
       "        [ 4.69621591e-01],\n",
       "        [ 1.71339008e-01],\n",
       "        [-1.91175007e-01],\n",
       "        [-2.08859803e-01],\n",
       "        [ 1.28578711e-01],\n",
       "        [-1.58309704e-01],\n",
       "        [-2.07596865e-01],\n",
       "        [ 3.32818560e-04],\n",
       "        [ 4.11728725e-01],\n",
       "        [ 1.00832463e-01],\n",
       "        [ 2.40129126e-01],\n",
       "        [-6.68653025e-03],\n",
       "        [-6.41304625e-02],\n",
       "        [ 2.27827638e-05],\n",
       "        [ 2.44439846e-02],\n",
       "        [ 1.20029827e-01],\n",
       "        [ 1.39887463e-01],\n",
       "        [-9.16340408e-02],\n",
       "        [ 5.79030569e-02],\n",
       "        [ 1.80438495e-01],\n",
       "        [-1.67743978e-01],\n",
       "        [ 1.01293080e-01],\n",
       "        [-1.31345807e-01],\n",
       "        [-2.15150003e-01],\n",
       "        [-2.43108857e-01],\n",
       "        [-3.09407438e-07],\n",
       "        [ 2.04470251e-01],\n",
       "        [-5.34421111e-02],\n",
       "        [ 1.58845781e-02],\n",
       "        [ 3.30635376e-02],\n",
       "        [-1.99213182e-02],\n",
       "        [-3.11548241e-01],\n",
       "        [-1.38216494e-01],\n",
       "        [-4.94284013e-01],\n",
       "        [ 3.05699333e-02],\n",
       "        [-1.21517098e-01],\n",
       "        [-7.64987484e-12],\n",
       "        [ 2.79298539e-05],\n",
       "        [ 1.33308777e-01],\n",
       "        [-1.09555024e-01],\n",
       "        [ 5.85906194e-02],\n",
       "        [-1.76946268e-02],\n",
       "        [ 2.09493119e-01],\n",
       "        [-8.46277152e-02],\n",
       "        [-5.20331754e-02],\n",
       "        [-1.93466076e-01],\n",
       "        [ 1.03366627e-01],\n",
       "        [-1.08594863e-01],\n",
       "        [-1.49601940e-01],\n",
       "        [ 1.82310093e-02],\n",
       "        [-2.44750686e-02],\n",
       "        [ 2.17446698e-01],\n",
       "        [ 2.04409921e-01],\n",
       "        [ 6.25699870e-02],\n",
       "        [-3.94381352e-10],\n",
       "        [ 2.88948372e-01],\n",
       "        [ 1.98918259e-01],\n",
       "        [-2.46913249e-01],\n",
       "        [-3.79383134e-02],\n",
       "        [-9.82574402e-02],\n",
       "        [-2.01440464e-01],\n",
       "        [-1.90085334e-01],\n",
       "        [-1.63565709e-02],\n",
       "        [ 2.92653965e-02],\n",
       "        [ 3.44058105e-02],\n",
       "        [-6.09243348e-02],\n",
       "        [-1.42328764e-11],\n",
       "        [ 4.50038804e-01],\n",
       "        [ 8.51563546e-03],\n",
       "        [ 1.25393699e-01],\n",
       "        [-5.35091779e-02],\n",
       "        [-1.72723003e-02],\n",
       "        [-1.37554555e-01],\n",
       "        [-1.92590032e-01],\n",
       "        [ 1.17289408e-01],\n",
       "        [ 8.75911614e-03],\n",
       "        [-2.39743449e-01],\n",
       "        [-2.33978585e-03],\n",
       "        [ 2.28035398e-01],\n",
       "        [-2.26362339e-01],\n",
       "        [ 2.27691614e-01],\n",
       "        [ 2.20200349e-01],\n",
       "        [-8.64437046e-03],\n",
       "        [ 3.33139747e-01],\n",
       "        [-1.23785258e-02],\n",
       "        [ 1.75613963e-01],\n",
       "        [-1.43129330e-01],\n",
       "        [ 2.64166952e-01],\n",
       "        [-5.54618250e-02],\n",
       "        [-4.77435938e-02],\n",
       "        [-1.81629814e-01],\n",
       "        [-1.04445556e-01],\n",
       "        [ 7.32615319e-02],\n",
       "        [-1.44784703e-02],\n",
       "        [ 8.82001012e-02]])]"
      ]
     },
     "execution_count": 194,
     "metadata": {},
     "output_type": "execute_result"
    }
   ],
   "source": [
    "mlpcModel.coefs_"
   ]
  },
  {
   "cell_type": "code",
   "execution_count": 195,
   "metadata": {},
   "outputs": [
    {
     "data": {
      "text/plain": [
       "0.868421052631579"
      ]
     },
     "execution_count": 195,
     "metadata": {},
     "output_type": "execute_result"
    }
   ],
   "source": [
    "y_pred = mlpcModel.predict(X_test)\n",
    "accuracy_score(y_test, y_pred)"
   ]
  },
  {
   "cell_type": "markdown",
   "metadata": {},
   "source": [
    "## Model Tuning"
   ]
  },
  {
   "cell_type": "code",
   "execution_count": 197,
   "metadata": {},
   "outputs": [],
   "source": [
    "mlpc_model = MLPClassifier()"
   ]
  },
  {
   "cell_type": "code",
   "execution_count": 198,
   "metadata": {},
   "outputs": [],
   "source": [
    "mlpc_params = {'hidden_layer_sizes': [(10, 10, 10),\n",
    "                                      (100, 100, 100),\n",
    "                                      (100), (100),\n",
    "                                      (3, 5),\n",
    "                                      (5, 3)],\n",
    "               'alpha': [0.1, 0.01, 0.02, 0.005, 0.0001, 0.00001],\n",
    "               'solver': ['lbfgs', 'sgd', 'adam'],\n",
    "               'activation': ['relu', 'logistic']}"
   ]
  },
  {
   "cell_type": "code",
   "execution_count": 199,
   "metadata": {},
   "outputs": [
    {
     "name": "stdout",
     "output_type": "stream",
     "text": [
      "Fitting 10 folds for each of 216 candidates, totalling 2160 fits\n"
     ]
    },
    {
     "name": "stderr",
     "output_type": "stream",
     "text": [
      "[Parallel(n_jobs=-1)]: Using backend LokyBackend with 4 concurrent workers.\n",
      "[Parallel(n_jobs=-1)]: Done  33 tasks      | elapsed:   21.7s\n",
      "[Parallel(n_jobs=-1)]: Done 154 tasks      | elapsed:   55.1s\n",
      "[Parallel(n_jobs=-1)]: Done 357 tasks      | elapsed:  1.8min\n",
      "[Parallel(n_jobs=-1)]: Done 640 tasks      | elapsed:  3.2min\n",
      "[Parallel(n_jobs=-1)]: Done 1005 tasks      | elapsed:  4.9min\n",
      "[Parallel(n_jobs=-1)]: Done 1450 tasks      | elapsed:  6.8min\n",
      "[Parallel(n_jobs=-1)]: Done 1977 tasks      | elapsed:  9.6min\n",
      "[Parallel(n_jobs=-1)]: Done 2160 out of 2160 | elapsed: 10.5min finished\n",
      "D:\\Anaconda\\lib\\site-packages\\sklearn\\neural_network\\_multilayer_perceptron.py:471: ConvergenceWarning: lbfgs failed to converge (status=1):\n",
      "STOP: TOTAL NO. of ITERATIONS REACHED LIMIT.\n",
      "\n",
      "Increase the number of iterations (max_iter) or scale the data as shown in:\n",
      "    https://scikit-learn.org/stable/modules/preprocessing.html\n",
      "  self.n_iter_ = _check_optimize_result(\"lbfgs\", opt_res, self.max_iter)\n"
     ]
    },
    {
     "data": {
      "text/plain": [
       "GridSearchCV(cv=10, estimator=MLPClassifier(), n_jobs=-1,\n",
       "             param_grid={'activation': ['relu', 'logistic'],\n",
       "                         'alpha': [0.1, 0.01, 0.02, 0.005, 0.0001, 1e-05],\n",
       "                         'hidden_layer_sizes': [(10, 10, 10), (100, 100, 100),\n",
       "                                                100, 100, (3, 5), (5, 3)],\n",
       "                         'solver': ['lbfgs', 'sgd', 'adam']},\n",
       "             verbose=2)"
      ]
     },
     "execution_count": 199,
     "metadata": {},
     "output_type": "execute_result"
    }
   ],
   "source": [
    "mlpc_cv_model = GridSearchCV(mlpc_model,\n",
    "                             mlpc_params,\n",
    "                             cv = 10,\n",
    "                             n_jobs = -1,\n",
    "                             verbose = 2)\n",
    "mlpc_cv_model.fit(X, y)"
   ]
  },
  {
   "cell_type": "code",
   "execution_count": 200,
   "metadata": {},
   "outputs": [
    {
     "data": {
      "text/plain": [
       "{'activation': 'logistic',\n",
       " 'alpha': 0.1,\n",
       " 'hidden_layer_sizes': (5, 3),\n",
       " 'solver': 'lbfgs'}"
      ]
     },
     "execution_count": 200,
     "metadata": {},
     "output_type": "execute_result"
    }
   ],
   "source": [
    "mlpc_cv_model.best_params_"
   ]
  },
  {
   "cell_type": "code",
   "execution_count": 202,
   "metadata": {},
   "outputs": [
    {
     "name": "stderr",
     "output_type": "stream",
     "text": [
      "D:\\Anaconda\\lib\\site-packages\\sklearn\\neural_network\\_multilayer_perceptron.py:471: ConvergenceWarning: lbfgs failed to converge (status=1):\n",
      "STOP: TOTAL NO. of ITERATIONS REACHED LIMIT.\n",
      "\n",
      "Increase the number of iterations (max_iter) or scale the data as shown in:\n",
      "    https://scikit-learn.org/stable/modules/preprocessing.html\n",
      "  self.n_iter_ = _check_optimize_result(\"lbfgs\", opt_res, self.max_iter)\n"
     ]
    },
    {
     "data": {
      "text/plain": [
       "MLPClassifier(activation='logistic', alpha=0.1, hidden_layer_sizes=(5, 3),\n",
       "              solver='lbfgs')"
      ]
     },
     "execution_count": 202,
     "metadata": {},
     "output_type": "execute_result"
    }
   ],
   "source": [
    "mlpc_tuned = MLPClassifier(activation = 'logistic',\n",
    "                           alpha = 0.1,\n",
    "                           hidden_layer_sizes = (5,3),\n",
    "                           solver = 'lbfgs')\n",
    "mlpc_tuned.fit(X,y)"
   ]
  },
  {
   "cell_type": "code",
   "execution_count": 203,
   "metadata": {},
   "outputs": [
    {
     "data": {
      "text/plain": [
       "0.8851674641148325"
      ]
     },
     "execution_count": 203,
     "metadata": {},
     "output_type": "execute_result"
    }
   ],
   "source": [
    "y_pred = mlpc_tuned.predict(X_test)\n",
    "accuracy_score(y_test, y_pred)"
   ]
  },
  {
   "cell_type": "markdown",
   "metadata": {},
   "source": [
    "# Models Comparison"
   ]
  },
  {
   "cell_type": "code",
   "execution_count": 223,
   "metadata": {},
   "outputs": [
    {
     "name": "stdout",
     "output_type": "stream",
     "text": [
      "----------------------------------------\n",
      "RandomForestClassifier :\n",
      "Model Accuracy Score = %86.84\n",
      "----------------------------------------\n",
      "DecisionTreeClassifier :\n",
      "Model Accuracy Score = %92.82\n",
      "----------------------------------------\n",
      "AdaBoostClassifier :\n",
      "Model Accuracy Score = %93.3\n",
      "----------------------------------------\n",
      "MLPClassifier :\n",
      "Model Accuracy Score = %88.52\n"
     ]
    }
   ],
   "source": [
    "models = [rf_tuned, dt_tuned ,ab_tuned, mlpc_tuned]\n",
    "\n",
    "for model in models:\n",
    "    name = model.__class__.__name__\n",
    "    y_pred = model.predict(X_test)\n",
    "    score = accuracy_score(y_test, y_pred)\n",
    "    print('-'*40)\n",
    "    print(name, ':')\n",
    "    print(f'Model Accuracy Score = %{round(score*100,2)}')"
   ]
  }
 ],
 "metadata": {
  "kernelspec": {
   "display_name": "Python 3",
   "language": "python",
   "name": "python3"
  },
  "language_info": {
   "codemirror_mode": {
    "name": "ipython",
    "version": 3
   },
   "file_extension": ".py",
   "mimetype": "text/x-python",
   "name": "python",
   "nbconvert_exporter": "python",
   "pygments_lexer": "ipython3",
   "version": "3.8.5"
  }
 },
 "nbformat": 4,
 "nbformat_minor": 4
}
